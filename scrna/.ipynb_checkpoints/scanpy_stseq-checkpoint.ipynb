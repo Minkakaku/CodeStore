{
 "cells": [
  {
   "cell_type": "code",
   "execution_count": null,
   "metadata": {},
   "outputs": [],
   "source": [
    "import scanpy as sc\n",
    "import pandas as pd\n",
    "import matplotlib.pyplot as plt\n",
    "import seaborn as sns\n",
    "\n",
    "sc.logging.print_versions()\n",
    "sc.set_figure_params(facecolor=\"white\", figsize=(8, 8))\n",
    "sc.settings.verbosity = 3\n"
   ]
  },
  {
   "cell_type": "code",
   "execution_count": null,
   "metadata": {},
   "outputs": [],
   "source": [
    "# adata = sc.datasets.visium_sge(sample_id=\"V1_Human_Lymph_Node\")\n",
    "import scanpy as sc\n",
    "adata = sc.read_h5ad(\n",
    "    '/home/hongfan/XMU2021/JOBs/ST_seq/CSX_ST_GBM/wsa_analysis/wk1.h5ad')\n",
    "print(adata.to_df())  # 这里显示的就是单细胞数据的pandas.DataFrame类型了\n",
    "#其中annData.var里面的是细胞，annData.var里面的是基因\n",
    "adata.var_names_make_unique()\n",
    "adata"
   ]
  },
  {
   "cell_type": "code",
   "execution_count": null,
   "metadata": {},
   "outputs": [],
   "source": [
    "plt.rcParams[\"figure.figsize\"] = (8, 8)\n",
    "sc.pl.spatial(adata, img_key=\"hires\", color=[\n",
    "              \"total_counts\", \"n_genes_by_counts\"])\n"
   ]
  }
 ],
 "metadata": {
  "kernelspec": {
   "display_name": "Python 3.10.4 ('bio')",
   "language": "python",
   "name": "python3"
  },
  "language_info": {
   "codemirror_mode": {
    "name": "ipython",
    "version": 3
   },
   "file_extension": ".py",
   "mimetype": "text/x-python",
   "name": "python",
   "nbconvert_exporter": "python",
   "pygments_lexer": "ipython3",
   "version": "3.10.4"
  },
  "orig_nbformat": 4,
  "vscode": {
   "interpreter": {
    "hash": "bda39eadd4015adfc2eea9b6d5b15c9f7b8a584a1f7c20e3244b1a828d96f275"
   }
  }
 },
 "nbformat": 4,
 "nbformat_minor": 2
}
