{
 "cells": [
  {
   "cell_type": "code",
   "execution_count": 72,
   "metadata": {},
   "outputs": [
    {
     "name": "stdout",
     "output_type": "stream",
     "text": [
      "1 epoch: avg losses 2082372.9274 3694538.5484 1758152.7634 0.0000 validation accuracy 0.7789 F1 0.2543(macro) 0.7117(weighted) precision 0.2551 recall 0.2702 mcc 0.7065 elapsed 8.5416 seconds\n",
      "2 epoch: avg losses 1786256.9536 1548876.7016 1651596.0357 0.0000 validation accuracy 0.8532 F1 0.3587(macro) 0.8222(weighted) precision 0.3911 recall 0.3610 mcc 0.7955 elapsed 4.2904 seconds\n",
      "3 epoch: avg losses 1651473.1653 779428.8185 1598735.3125 0.0000 validation accuracy 0.9231 F1 0.4484(macro) 0.9020(weighted) precision 0.4253 recall 0.4821 mcc 0.8943 elapsed 4.2407 seconds\n",
      "4 epoch: avg losses 1582632.6774 539258.9052 1576925.0223 0.0000 validation accuracy 0.9287 F1 0.4550(macro) 0.9077(weighted) precision 0.4312 recall 0.4899 mcc 0.9026 elapsed 4.4350 seconds\n",
      "5 epoch: avg losses 1553038.1915 452577.1915 1564833.4554 0.0000 validation accuracy 0.9366 F1 0.5652(macro) 0.9260(weighted) precision 0.6435 recall 0.5879 mcc 0.9123 elapsed 4.5832 seconds\n",
      "6 epoch: avg losses 1536288.6754 376345.9516 1556979.9464 0.0000 validation accuracy 0.9357 F1 0.5806(macro) 0.9219(weighted) precision 0.5775 recall 0.5976 mcc 0.9112 elapsed 4.4511 seconds\n",
      "7 epoch: avg losses 1524418.4677 298940.3564 1549038.1496 0.0000 validation accuracy 0.9575 F1 0.7333(macro) 0.9562(weighted) precision 0.7627 recall 0.7370 mcc 0.9417 elapsed 4.5054 seconds\n",
      "8 epoch: avg losses 1516133.8246 245157.9183 1541539.3237 0.0000 validation accuracy 0.9387 F1 0.7073(macro) 0.9327(weighted) precision 0.7510 recall 0.6976 mcc 0.9160 elapsed 4.5186 seconds\n",
      "9 epoch: avg losses 1508401.9940 222227.1542 1533537.1406 0.0000 validation accuracy 0.9679 F1 0.7899(macro) 0.9657(weighted) precision 0.8155 recall 0.7861 mcc 0.9556 elapsed 4.4027 seconds\n",
      "10 epoch: avg losses 1502070.0141 168728.5008 1527155.3683 0.0000 validation accuracy 0.9685 F1 0.8031(macro) 0.9664(weighted) precision 0.8196 recall 0.7940 mcc 0.9564 elapsed 4.3649 seconds\n",
      "11 epoch: avg losses 1496893.6714 145546.2717 1521668.1786 0.0000 validation accuracy 0.9637 F1 0.7720(macro) 0.9632(weighted) precision 0.7731 recall 0.7811 mcc 0.9501 elapsed 4.3380 seconds\n",
      "12 epoch: avg losses 1493179.7540 132889.4888 1516785.5067 0.0000 validation accuracy 0.9714 F1 0.8203(macro) 0.9696(weighted) precision 0.9364 recall 0.7889 mcc 0.9605 elapsed 4.4604 seconds\n",
      "13 epoch: avg losses 1487773.5101 110124.8512 1511750.0246 0.0000 validation accuracy 0.9714 F1 0.8427(macro) 0.9705(weighted) precision 0.9252 recall 0.8175 mcc 0.9606 elapsed 4.3539 seconds\n",
      "14 epoch: avg losses 1483380.1714 100762.5164 1506425.5625 0.0000 validation accuracy 0.9281 F1 0.8098(macro) 0.9317(weighted) precision 0.8939 recall 0.7984 mcc 0.9058 elapsed 4.3383 seconds\n",
      "15 epoch: avg losses 1481366.3024 142873.9372 1501990.5156 0.0000 validation accuracy 0.9605 F1 0.8619(macro) 0.9584(weighted) precision 0.9472 recall 0.8136 mcc 0.9456 elapsed 4.4140 seconds\n",
      "16 epoch: avg losses 1475389.7218 98573.3875 1493676.3170 0.0000 validation accuracy 0.9785 F1 0.9184(macro) 0.9780(weighted) precision 0.9586 recall 0.8903 mcc 0.9702 elapsed 4.3975 seconds\n",
      "17 epoch: avg losses 1468993.7601 72082.3461 1484723.0580 0.0000 validation accuracy 0.9814 F1 0.9322(macro) 0.9814(weighted) precision 0.9458 recall 0.9211 mcc 0.9743 elapsed 4.2667 seconds\n",
      "18 epoch: avg losses 1464866.8165 64217.2340 1476204.8058 0.0000 validation accuracy 0.9811 F1 0.9412(macro) 0.9809(weighted) precision 0.9577 recall 0.9282 mcc 0.9739 elapsed 4.3819 seconds\n",
      "19 epoch: avg losses 1461405.7117 57101.1210 1468631.5067 0.0000 validation accuracy 0.9802 F1 0.9393(macro) 0.9800(weighted) precision 0.9474 recall 0.9342 mcc 0.9727 elapsed 4.3088 seconds\n",
      "20 epoch: avg losses 1458591.5302 51817.6230 1462898.8058 0.0000 validation accuracy 0.9800 F1 0.9304(macro) 0.9798(weighted) precision 0.9452 recall 0.9182 mcc 0.9723 elapsed 4.3931 seconds\n",
      "21 epoch: avg losses 1456261.1875 43737.0619 1458078.9375 0.0000 validation accuracy 0.9788 F1 0.9199(macro) 0.9786(weighted) precision 0.9344 recall 0.9086 mcc 0.9707 elapsed 4.4393 seconds\n",
      "22 epoch: avg losses 1454266.5645 38242.9221 1454521.2254 0.0000 validation accuracy 0.9785 F1 0.9246(macro) 0.9784(weighted) precision 0.9413 recall 0.9108 mcc 0.9703 elapsed 4.3648 seconds\n",
      "23 epoch: avg losses 1451665.1169 34531.3309 1451368.2902 0.0000 validation accuracy 0.9805 F1 0.9303(macro) 0.9807(weighted) precision 0.9323 recall 0.9301 mcc 0.9731 elapsed 4.3824 seconds\n",
      "24 epoch: avg losses 1449942.2782 29635.8946 1448615.6027 0.0000 validation accuracy 0.9802 F1 0.9274(macro) 0.9800(weighted) precision 0.9497 recall 0.9102 mcc 0.9727 elapsed 4.3644 seconds\n",
      "25 epoch: avg losses 1448561.0625 26027.2124 1446229.3192 0.0000 validation accuracy 0.9814 F1 0.9328(macro) 0.9815(weighted) precision 0.9281 recall 0.9395 mcc 0.9744 elapsed 4.4733 seconds\n",
      "26 epoch: avg losses 1446587.4355 24345.4078 1443718.2924 0.0000 validation accuracy 0.9802 F1 0.9271(macro) 0.9804(weighted) precision 0.9185 recall 0.9381 mcc 0.9727 elapsed 4.5329 seconds\n",
      "27 epoch: avg losses 1445123.1694 20897.1394 1441414.2701 0.0000 validation accuracy 0.9800 F1 0.9226(macro) 0.9801(weighted) precision 0.9130 recall 0.9403 mcc 0.9723 elapsed 4.4506 seconds\n",
      "28 epoch: avg losses 1443816.7157 21149.0980 1439213.7344 0.0000 validation accuracy 0.9817 F1 0.9469(macro) 0.9815(weighted) precision 0.9686 recall 0.9301 mcc 0.9747 elapsed 4.5134 seconds\n",
      "29 epoch: avg losses 1442519.4335 15662.2781 1437204.5804 0.0000 validation accuracy 0.9782 F1 0.9207(macro) 0.9778(weighted) precision 0.9520 recall 0.8960 mcc 0.9698 elapsed 4.4783 seconds\n",
      "30 epoch: avg losses 1441046.6492 13136.3080 1435205.1607 0.0000 validation accuracy 0.9808 F1 0.9299(macro) 0.9809(weighted) precision 0.9254 recall 0.9370 mcc 0.9736 elapsed 4.4735 seconds\n",
      "31 epoch: avg losses 1439254.2137 11480.5031 1433220.0045 0.0000 validation accuracy 0.9785 F1 0.9339(macro) 0.9782(weighted) precision 0.9447 recall 0.9253 mcc 0.9702 elapsed 4.3822 seconds\n",
      "32 epoch: avg losses 1438117.5343 9112.5547 1430868.2143 0.0000 validation accuracy 0.9779 F1 0.9202(macro) 0.9779(weighted) precision 0.9343 recall 0.9100 mcc 0.9695 elapsed 4.4035 seconds\n",
      "33 epoch: avg losses 1436617.0786 7909.9943 1429086.5446 0.0000 validation accuracy 0.9773 F1 0.9227(macro) 0.9770(weighted) precision 0.9358 recall 0.9122 mcc 0.9686 elapsed 4.4959 seconds\n",
      "34 epoch: avg losses 1435486.4395 6876.9999 1426983.1228 0.0000 validation accuracy 0.9808 F1 0.9355(macro) 0.9808(weighted) precision 0.9392 recall 0.9334 mcc 0.9735 elapsed 4.4807 seconds\n",
      "35 epoch: avg losses 1433906.5827 5981.0575 1425178.6116 0.0000 validation accuracy 0.9776 F1 0.9184(macro) 0.9773(weighted) precision 0.9328 recall 0.9083 mcc 0.9690 elapsed 4.4798 seconds\n",
      "36 epoch: avg losses 1432709.6613 4910.5899 1423217.4978 0.0000 validation accuracy 0.9805 F1 0.9334(macro) 0.9805(weighted) precision 0.9372 recall 0.9306 mcc 0.9731 elapsed 4.4556 seconds\n",
      "37 epoch: avg losses 1431190.3770 4223.5348 1421408.4353 0.0000 validation accuracy 0.9808 F1 0.9294(macro) 0.9807(weighted) precision 0.9439 recall 0.9192 mcc 0.9735 elapsed 4.3364 seconds\n",
      "38 epoch: avg losses 1430035.6089 3709.4550 1419596.3036 0.0000 validation accuracy 0.9782 F1 0.9217(macro) 0.9779(weighted) precision 0.9395 recall 0.9076 mcc 0.9698 elapsed 4.4603 seconds\n",
      "39 epoch: avg losses 1428713.9839 3188.7339 1417741.0112 0.0000 validation accuracy 0.9802 F1 0.9330(macro) 0.9801(weighted) precision 0.9424 recall 0.9272 mcc 0.9727 elapsed 4.2140 seconds\n",
      "40 epoch: avg losses 1427474.9556 2854.2378 1415765.9621 0.0000 validation accuracy 0.9808 F1 0.9312(macro) 0.9807(weighted) precision 0.9441 recall 0.9219 mcc 0.9735 elapsed 4.2116 seconds\n",
      "41 epoch: avg losses 1426161.3125 2907.0657 1414004.7054 0.0000 validation accuracy 0.9770 F1 0.9201(macro) 0.9767(weighted) precision 0.9342 recall 0.9104 mcc 0.9682 elapsed 4.3378 seconds\n",
      "42 epoch: avg losses 1425292.5403 2572.7534 1412130.6853 0.0000 validation accuracy 0.9808 F1 0.9303(macro) 0.9808(weighted) precision 0.9326 recall 0.9308 mcc 0.9735 elapsed 4.3884 seconds\n",
      "43 epoch: avg losses 1423597.1028 2141.6641 1410472.4219 0.0000 validation accuracy 0.9805 F1 0.9315(macro) 0.9805(weighted) precision 0.9385 recall 0.9268 mcc 0.9731 elapsed 4.3501 seconds\n"
     ]
    },
    {
     "name": "stdout",
     "output_type": "stream",
     "text": [
      "44 epoch: avg losses 1422316.1976 1965.3397 1408699.2969 0.0000 validation accuracy 0.9797 F1 0.9255(macro) 0.9795(weighted) precision 0.9384 recall 0.9151 mcc 0.9719 elapsed 4.3935 seconds\n",
      "45 epoch: avg losses 1421151.6109 1746.6991 1407284.8170 0.0000 validation accuracy 0.9791 F1 0.9240(macro) 0.9788(weighted) precision 0.9416 recall 0.9103 mcc 0.9711 elapsed 4.4294 seconds\n",
      "46 epoch: avg losses 1419960.5706 1647.9421 1405682.0714 0.0000 validation accuracy 0.9802 F1 0.9275(macro) 0.9802(weighted) precision 0.9299 recall 0.9280 mcc 0.9727 elapsed 4.3385 seconds\n",
      "47 epoch: avg losses 1418800.6431 1593.3410 1404263.3661 0.0000 validation accuracy 0.9797 F1 0.9325(macro) 0.9795(weighted) precision 0.9443 recall 0.9234 mcc 0.9719 elapsed 4.2001 seconds\n",
      "48 epoch: avg losses 1417707.2702 1373.0047 1402867.8371 0.0000 validation accuracy 0.9805 F1 0.9324(macro) 0.9805(weighted) precision 0.9402 recall 0.9266 mcc 0.9731 elapsed 4.2828 seconds\n",
      "49 epoch: avg losses 1416641.5262 1400.9858 1401424.0000 0.0000 validation accuracy 0.9794 F1 0.9213(macro) 0.9793(weighted) precision 0.9306 recall 0.9157 mcc 0.9715 elapsed 4.2878 seconds\n",
      "50 epoch: avg losses 1415519.9294 1301.0766 1400197.8973 0.0000 validation accuracy 0.9785 F1 0.9243(macro) 0.9782(weighted) precision 0.9403 recall 0.9115 mcc 0.9702 elapsed 4.2560 seconds\n",
      "51 epoch: avg losses 1414464.1431 1100.1512 1398811.1406 0.0000 validation accuracy 0.9802 F1 0.9310(macro) 0.9801(weighted) precision 0.9449 recall 0.9204 mcc 0.9727 elapsed 4.3310 seconds\n",
      "52 epoch: avg losses 1413296.0726 1192.3347 1397545.2076 0.0000 validation accuracy 0.9800 F1 0.9323(macro) 0.9798(weighted) precision 0.9495 recall 0.9178 mcc 0.9723 elapsed 4.3599 seconds\n",
      "53 epoch: avg losses 1412416.2298 1029.6533 1396253.2031 0.0000 validation accuracy 0.9791 F1 0.9246(macro) 0.9790(weighted) precision 0.9333 recall 0.9195 mcc 0.9711 elapsed 4.3338 seconds\n",
      "54 epoch: avg losses 1411349.6331 1039.6226 1394999.8594 0.0000 validation accuracy 0.9802 F1 0.9320(macro) 0.9801(weighted) precision 0.9436 recall 0.9226 mcc 0.9727 elapsed 4.3949 seconds\n",
      "55 epoch: avg losses 1410402.1633 862.7342 1393803.9196 0.0000 validation accuracy 0.9794 F1 0.9301(macro) 0.9794(weighted) precision 0.9353 recall 0.9269 mcc 0.9715 elapsed 4.1838 seconds\n",
      "56 epoch: avg losses 1409755.2218 2402.6348 1392700.6094 0.0000 validation accuracy 0.9791 F1 0.9363(macro) 0.9788(weighted) precision 0.9612 recall 0.9151 mcc 0.9710 elapsed 4.3522 seconds\n",
      "57 epoch: avg losses 1408676.2782 813.6708 1391511.5915 0.0000 validation accuracy 0.9800 F1 0.9290(macro) 0.9798(weighted) precision 0.9416 recall 0.9194 mcc 0.9723 elapsed 4.3459 seconds\n",
      "58 epoch: avg losses 1407853.3306 787.8066 1390658.1518 0.0000 validation accuracy 0.9797 F1 0.9302(macro) 0.9796(weighted) precision 0.9358 recall 0.9262 mcc 0.9719 elapsed 4.3581 seconds\n",
      "59 epoch: avg losses 1406914.9738 751.4809 1389473.9018 0.0000 validation accuracy 0.9802 F1 0.9322(macro) 0.9802(weighted) precision 0.9382 recall 0.9288 mcc 0.9727 elapsed 4.3261 seconds\n",
      "60 epoch: avg losses 1406247.0222 710.2568 1388411.3058 0.0000 validation accuracy 0.9802 F1 0.9315(macro) 0.9802(weighted) precision 0.9383 recall 0.9270 mcc 0.9727 elapsed 4.2814 seconds\n",
      "61 epoch: avg losses 1405373.5040 698.6007 1387349.2545 0.0000 validation accuracy 0.9805 F1 0.9343(macro) 0.9805(weighted) precision 0.9482 recall 0.9234 mcc 0.9731 elapsed 4.2932 seconds\n",
      "62 epoch: avg losses 1404699.9133 636.2466 1386382.4933 0.0000 validation accuracy 0.9800 F1 0.9293(macro) 0.9799(weighted) precision 0.9350 recall 0.9261 mcc 0.9723 elapsed 4.3655 seconds\n",
      "63 epoch: avg losses 1403753.6754 611.7993 1385351.9107 0.0000 validation accuracy 0.9802 F1 0.9326(macro) 0.9801(weighted) precision 0.9475 recall 0.9211 mcc 0.9727 elapsed 4.3887 seconds\n",
      "64 epoch: avg losses 1402985.1008 580.2711 1384357.4219 0.0000 validation accuracy 0.9805 F1 0.9329(macro) 0.9805(weighted) precision 0.9395 recall 0.9287 mcc 0.9731 elapsed 4.1945 seconds\n",
      "65 epoch: avg losses 1402428.3185 659.9091 1383514.8996 0.0000 validation accuracy 0.9800 F1 0.9298(macro) 0.9799(weighted) precision 0.9351 recall 0.9269 mcc 0.9723 elapsed 4.3610 seconds\n",
      "66 epoch: avg losses 1401700.1552 575.8640 1382558.2321 0.0000 validation accuracy 0.9802 F1 0.9296(macro) 0.9802(weighted) precision 0.9345 recall 0.9278 mcc 0.9727 elapsed 4.1825 seconds\n",
      "67 epoch: avg losses 1400958.0685 496.1133 1381841.0580 0.0000 validation accuracy 0.9802 F1 0.9306(macro) 0.9802(weighted) precision 0.9394 recall 0.9252 mcc 0.9727 elapsed 4.3580 seconds\n",
      "68 epoch: avg losses 1400339.5786 461.9635 1380846.0223 0.0000 validation accuracy 0.9811 F1 0.9312(macro) 0.9811(weighted) precision 0.9377 recall 0.9281 mcc 0.9739 elapsed 4.3122 seconds\n",
      "69 epoch: avg losses 1399743.7480 457.2600 1380088.2589 0.0000 validation accuracy 0.9797 F1 0.9295(macro) 0.9796(weighted) precision 0.9344 recall 0.9277 mcc 0.9719 elapsed 4.2638 seconds\n",
      "70 epoch: avg losses 1399026.7480 450.5293 1379206.3013 0.0000 validation accuracy 0.9794 F1 0.9285(macro) 0.9794(weighted) precision 0.9344 recall 0.9258 mcc 0.9715 elapsed 4.3925 seconds\n",
      "71 epoch: avg losses 1398473.7742 460.5590 1378448.2679 0.0000 validation accuracy 0.9800 F1 0.9296(macro) 0.9800(weighted) precision 0.9307 recall 0.9311 mcc 0.9723 elapsed 4.3614 seconds\n",
      "72 epoch: avg losses 1397832.0887 430.7635 1377611.3125 0.0000 validation accuracy 0.9800 F1 0.9294(macro) 0.9800(weighted) precision 0.9314 recall 0.9300 mcc 0.9723 elapsed 4.4175 seconds\n",
      "73 epoch: avg losses 1397205.6754 420.0874 1376912.6741 0.0000 validation accuracy 0.9794 F1 0.9295(macro) 0.9794(weighted) precision 0.9279 recall 0.9333 mcc 0.9715 elapsed 4.3589 seconds\n",
      "74 epoch: avg losses 1396596.9617 431.8029 1376164.0513 0.0000 validation accuracy 0.9791 F1 0.9275(macro) 0.9791(weighted) precision 0.9302 recall 0.9276 mcc 0.9711 elapsed 4.0920 seconds\n",
      "75 epoch: avg losses 1396005.5585 350.4288 1375380.5513 0.0000 validation accuracy 0.9797 F1 0.9297(macro) 0.9796(weighted) precision 0.9367 recall 0.9262 mcc 0.9719 elapsed 4.1221 seconds\n",
      "76 epoch: avg losses 1395424.2157 354.8916 1374675.8482 0.0000 validation accuracy 0.9794 F1 0.9294(macro) 0.9794(weighted) precision 0.9295 recall 0.9319 mcc 0.9715 elapsed 4.3752 seconds\n",
      "77 epoch: avg losses 1394822.4657 339.6246 1373903.3460 0.0000 validation accuracy 0.9808 F1 0.9316(macro) 0.9808(weighted) precision 0.9350 recall 0.9314 mcc 0.9735 elapsed 4.4067 seconds\n",
      "78 epoch: avg losses 1394226.6815 342.7237 1373247.1384 0.0000 validation accuracy 0.9794 F1 0.9300(macro) 0.9794(weighted) precision 0.9307 recall 0.9319 mcc 0.9715 elapsed 4.3122 seconds\n",
      "79 epoch: avg losses 1393680.5968 372.1029 1372502.1763 0.0000 validation accuracy 0.9797 F1 0.9302(macro) 0.9797(weighted) precision 0.9311 recall 0.9317 mcc 0.9719 elapsed 4.3863 seconds\n",
      "80 epoch: avg losses 1393013.4718 281.3486 1371780.8929 0.0000 validation accuracy 0.9791 F1 0.9290(macro) 0.9791(weighted) precision 0.9285 recall 0.9316 mcc 0.9711 elapsed 4.3071 seconds\n",
      "81 epoch: avg losses 1392403.1593 289.3904 1371087.2433 0.0000 validation accuracy 0.9800 F1 0.9364(macro) 0.9799(weighted) precision 0.9497 recall 0.9249 mcc 0.9723 elapsed 4.2777 seconds\n",
      "82 epoch: avg losses 1391931.0262 289.1356 1370497.5603 0.0000 validation accuracy 0.9797 F1 0.9331(macro) 0.9794(weighted) precision 0.9564 recall 0.9144 mcc 0.9719 elapsed 4.3801 seconds\n",
      "83 epoch: avg losses 1391302.3931 244.1736 1369768.8661 0.0000 validation accuracy 0.9794 F1 0.9294(macro) 0.9794(weighted) precision 0.9296 recall 0.9316 mcc 0.9715 elapsed 4.3941 seconds\n",
      "84 epoch: avg losses 1390752.3065 261.3885 1369253.7254 0.0000 validation accuracy 0.9805 F1 0.9402(macro) 0.9805(weighted) precision 0.9491 recall 0.9321 mcc 0.9731 elapsed 4.3740 seconds\n",
      "85 epoch: avg losses 1390290.7440 220.4951 1368663.5424 0.0000 validation accuracy 0.9797 F1 0.9314(macro) 0.9797(weighted) precision 0.9309 recall 0.9341 mcc 0.9719 elapsed 4.3950 seconds\n",
      "86 epoch: avg losses 1389839.1976 315.0987 1368061.6272 0.0000 validation accuracy 0.9800 F1 0.9368(macro) 0.9799(weighted) precision 0.9396 recall 0.9351 mcc 0.9723 elapsed 4.4121 seconds\n",
      "87 epoch: avg losses 1389327.2802 218.0212 1367559.3884 0.0000 validation accuracy 0.9800 F1 0.9390(macro) 0.9799(weighted) precision 0.9490 recall 0.9302 mcc 0.9723 elapsed 4.4005 seconds\n"
     ]
    },
    {
     "name": "stdout",
     "output_type": "stream",
     "text": [
      "88 epoch: avg losses 1388839.2641 224.2436 1367044.6004 0.0000 validation accuracy 0.9791 F1 0.9324(macro) 0.9790(weighted) precision 0.9472 recall 0.9201 mcc 0.9711 elapsed 4.3465 seconds\n",
      "89 epoch: avg losses 1388402.9133 235.8184 1366533.3996 0.0000 validation accuracy 0.9802 F1 0.9395(macro) 0.9802(weighted) precision 0.9484 recall 0.9317 mcc 0.9727 elapsed 4.4089 seconds\n",
      "90 epoch: avg losses 1388031.0524 190.7349 1366060.5826 0.0000 validation accuracy 0.9800 F1 0.9377(macro) 0.9799(weighted) precision 0.9499 recall 0.9269 mcc 0.9723 elapsed 4.5085 seconds\n",
      "91 epoch: avg losses 1387692.2742 194.5871 1365609.0513 0.0000 validation accuracy 0.9797 F1 0.9354(macro) 0.9796(weighted) precision 0.9503 recall 0.9228 mcc 0.9719 elapsed 4.3845 seconds\n",
      "92 epoch: avg losses 1387349.3387 200.6912 1365139.3326 0.0000 validation accuracy 0.9811 F1 0.9427(macro) 0.9811(weighted) precision 0.9504 recall 0.9361 mcc 0.9739 elapsed 4.4270 seconds\n",
      "93 epoch: avg losses 1386981.3427 269.7338 1364623.8348 0.0000 validation accuracy 0.9808 F1 0.9435(macro) 0.9807(weighted) precision 0.9536 recall 0.9347 mcc 0.9735 elapsed 4.3934 seconds\n",
      "94 epoch: avg losses 1386636.5282 160.9470 1364197.2723 0.0000 validation accuracy 0.9805 F1 0.9402(macro) 0.9805(weighted) precision 0.9511 recall 0.9306 mcc 0.9731 elapsed 4.4983 seconds\n",
      "95 epoch: avg losses 1386237.7258 189.3364 1363789.5670 0.0000 validation accuracy 0.9811 F1 0.9439(macro) 0.9811(weighted) precision 0.9549 recall 0.9339 mcc 0.9739 elapsed 4.2812 seconds\n",
      "96 epoch: avg losses 1385872.1512 150.0613 1363309.0156 0.0000 validation accuracy 0.9808 F1 0.9412(macro) 0.9808(weighted) precision 0.9529 recall 0.9307 mcc 0.9735 elapsed 4.3933 seconds\n",
      "97 epoch: avg losses 1385573.3871 153.1689 1362893.4018 0.0000 validation accuracy 0.9808 F1 0.9416(macro) 0.9808(weighted) precision 0.9556 recall 0.9291 mcc 0.9735 elapsed 4.3308 seconds\n",
      "98 epoch: avg losses 1385162.3548 149.0062 1362502.2299 0.0000 validation accuracy 0.9808 F1 0.9424(macro) 0.9808(weighted) precision 0.9519 recall 0.9339 mcc 0.9735 elapsed 4.4743 seconds\n",
      "99 epoch: avg losses 1384925.4899 166.4045 1362102.0804 0.0000 validation accuracy 0.9805 F1 0.9428(macro) 0.9806(weighted) precision 0.9440 recall 0.9421 mcc 0.9731 elapsed 4.4579 seconds\n",
      "100 epoch: avg losses 1384607.4435 192.6135 1361702.9777 0.0000 validation accuracy 0.9802 F1 0.9408(macro) 0.9802(weighted) precision 0.9509 recall 0.9319 mcc 0.9727 elapsed 4.2317 seconds\n",
      "best validation accuracy 0.9817\n",
      "F1: 0.9469(macro) 0.9815(weighted) \n",
      "precision 0.9686 recall 0.9301 \n",
      "mcc 0.9747\n"
     ]
    }
   ],
   "source": [
    "%%bash\n",
    "\n",
    "python scClassifier3.py --sup-data-file /home/wsa/data/mtx_file_1850_6590/ref_dataset.mtx \\\n",
    "                        --sup-label-file /home/wsa/data/mtx_file_1850_6590/ref_dataset_cluster.txt \\\n",
    "                        --unsup-data-file /home/wsa/data/mtx_file_1850_6590/alt_dataset.mtx \\\n",
    "                        --seed 14 \\\n",
    "                        -lr 0.0001 \\\n",
    "                        -n 100 \\\n",
    "                        -bs 1000 \\\n",
    "                        --aux-loss \\\n",
    "                        -ba \\\n",
    "                        --validation-fold 10 \\\n",
    "                        --cuda \\\n",
    "                        --save-model bench_glioma_model_1850_6590.pth\n",
    "                        \n"
   ]
  },
  {
   "cell_type": "code",
   "execution_count": 1,
   "metadata": {},
   "outputs": [
    {
     "name": "stdout",
     "output_type": "stream",
     "text": [
      "1 epoch: avg losses 2123775.4315 3744747.4597 0.0000 0.0000 validation accuracy 0.7164 F1 0.1654(macro) 0.6010(weighted) precision 0.1419 recall 0.1997 mcc 0.5918 elapsed 7.4525 seconds\n",
      "2 epoch: avg losses 1871597.5504 1929791.0847 0.0000 0.0000 validation accuracy 0.8202 F1 0.2686(macro) 0.7520(weighted) precision 0.2511 recall 0.2939 mcc 0.7542 elapsed 2.0265 seconds\n",
      "3 epoch: avg losses 1746980.1008 1178592.4899 0.0000 0.0000 validation accuracy 0.8544 F1 0.3549(macro) 0.8234(weighted) precision 0.3811 recall 0.3531 mcc 0.7940 elapsed 2.0718 seconds\n",
      "4 epoch: avg losses 1644119.1956 793559.4103 0.0000 0.0000 validation accuracy 0.9213 F1 0.4482(macro) 0.9007(weighted) precision 0.4287 recall 0.4734 mcc 0.8897 elapsed 2.0549 seconds\n",
      "5 epoch: avg losses 1583315.5302 563068.0842 0.0000 0.0000 validation accuracy 0.9284 F1 0.4557(macro) 0.9086(weighted) precision 0.4345 recall 0.4855 mcc 0.9004 elapsed 2.0573 seconds\n",
      "6 epoch: avg losses 1542998.0444 454831.8805 0.0000 0.0000 validation accuracy 0.9301 F1 0.4696(macro) 0.9118(weighted) precision 0.4909 recall 0.4916 mcc 0.9025 elapsed 2.0311 seconds\n",
      "7 epoch: avg losses 1521929.1411 378940.2288 0.0000 0.0000 validation accuracy 0.9458 F1 0.5887(macro) 0.9358(weighted) precision 0.6592 recall 0.5840 mcc 0.9242 elapsed 2.1589 seconds\n",
      "8 epoch: avg losses 1508621.1512 311408.3059 0.0000 0.0000 validation accuracy 0.9517 F1 0.6422(macro) 0.9454(weighted) precision 0.6702 recall 0.6353 mcc 0.9324 elapsed 2.1035 seconds\n",
      "9 epoch: avg losses 1497882.5282 264185.3634 0.0000 0.0000 validation accuracy 0.9623 F1 0.7477(macro) 0.9591(weighted) precision 0.7919 recall 0.7212 mcc 0.9470 elapsed 2.0850 seconds\n",
      "10 epoch: avg losses 1488833.1895 224472.4556 0.0000 0.0000 validation accuracy 0.9617 F1 0.7434(macro) 0.9585(weighted) precision 0.7947 recall 0.7147 mcc 0.9461 elapsed 2.1645 seconds\n",
      "11 epoch: avg losses 1482993.6351 192083.6935 0.0000 0.0000 validation accuracy 0.9667 F1 0.7668(macro) 0.9644(weighted) precision 0.7866 recall 0.7553 mcc 0.9532 elapsed 2.0321 seconds\n",
      "12 epoch: avg losses 1478646.7137 162227.3221 0.0000 0.0000 validation accuracy 0.9676 F1 0.7817(macro) 0.9656(weighted) precision 0.8004 recall 0.7694 mcc 0.9545 elapsed 2.0566 seconds\n",
      "13 epoch: avg losses 1475054.4940 141353.9711 0.0000 0.0000 validation accuracy 0.9682 F1 0.7787(macro) 0.9658(weighted) precision 0.8077 recall 0.7599 mcc 0.9552 elapsed 2.0576 seconds\n",
      "14 epoch: avg losses 1471740.5766 119737.8353 0.0000 0.0000 validation accuracy 0.9726 F1 0.8390(macro) 0.9715(weighted) precision 0.9187 recall 0.8083 mcc 0.9615 elapsed 2.0925 seconds\n",
      "15 epoch: avg losses 1469031.5968 103678.0912 0.0000 0.0000 validation accuracy 0.9720 F1 0.8444(macro) 0.9712(weighted) precision 0.9138 recall 0.8142 mcc 0.9607 elapsed 2.0610 seconds\n",
      "16 epoch: avg losses 1466425.3387 91005.9715 0.0000 0.0000 validation accuracy 0.9729 F1 0.8439(macro) 0.9717(weighted) precision 0.9071 recall 0.8088 mcc 0.9619 elapsed 2.0681 seconds\n",
      "17 epoch: avg losses 1464087.7399 80012.4543 0.0000 0.0000 validation accuracy 0.9746 F1 0.8735(macro) 0.9740(weighted) precision 0.9191 recall 0.8426 mcc 0.9644 elapsed 2.0576 seconds\n",
      "18 epoch: avg losses 1461527.1794 70076.1826 0.0000 0.0000 validation accuracy 0.9773 F1 0.8945(macro) 0.9768(weighted) precision 0.9367 recall 0.8620 mcc 0.9681 elapsed 2.0860 seconds\n",
      "19 epoch: avg losses 1459231.9012 61351.4773 0.0000 0.0000 validation accuracy 0.9749 F1 0.8717(macro) 0.9743(weighted) precision 0.9167 recall 0.8447 mcc 0.9648 elapsed 2.0533 seconds\n",
      "20 epoch: avg losses 1457157.8165 56664.2096 0.0000 0.0000 validation accuracy 0.9779 F1 0.9076(macro) 0.9777(weighted) precision 0.9254 recall 0.8938 mcc 0.9689 elapsed 2.1237 seconds\n",
      "21 epoch: avg losses 1454938.5766 50363.8610 0.0000 0.0000 validation accuracy 0.9782 F1 0.9089(macro) 0.9778(weighted) precision 0.9341 recall 0.8885 mcc 0.9693 elapsed 2.2200 seconds\n",
      "22 epoch: avg losses 1452751.4315 42098.4861 0.0000 0.0000 validation accuracy 0.9764 F1 0.9067(macro) 0.9760(weighted) precision 0.9393 recall 0.8812 mcc 0.9669 elapsed 2.2116 seconds\n",
      "23 epoch: avg losses 1450769.9335 38033.4377 0.0000 0.0000 validation accuracy 0.9770 F1 0.9054(macro) 0.9766(weighted) precision 0.9430 recall 0.8756 mcc 0.9677 elapsed 2.0906 seconds\n",
      "24 epoch: avg losses 1448766.4516 34061.5629 0.0000 0.0000 validation accuracy 0.9752 F1 0.8967(macro) 0.9748(weighted) precision 0.9321 recall 0.8701 mcc 0.9652 elapsed 2.1592 seconds\n",
      "25 epoch: avg losses 1446782.0968 29741.6344 0.0000 0.0000 validation accuracy 0.9773 F1 0.9133(macro) 0.9769(weighted) precision 0.9445 recall 0.8876 mcc 0.9681 elapsed 2.1510 seconds\n",
      "26 epoch: avg losses 1444979.7581 26184.0245 0.0000 0.0000 validation accuracy 0.9761 F1 0.9084(macro) 0.9758(weighted) precision 0.9345 recall 0.8877 mcc 0.9665 elapsed 2.0750 seconds\n",
      "27 epoch: avg losses 1443113.2964 23019.9794 0.0000 0.0000 validation accuracy 0.9761 F1 0.9067(macro) 0.9758(weighted) precision 0.9355 recall 0.8838 mcc 0.9665 elapsed 2.1474 seconds\n",
      "28 epoch: avg losses 1441340.3690 20464.6300 0.0000 0.0000 validation accuracy 0.9761 F1 0.9045(macro) 0.9759(weighted) precision 0.9257 recall 0.8882 mcc 0.9665 elapsed 2.0782 seconds\n",
      "29 epoch: avg losses 1439578.3992 18667.7944 0.0000 0.0000 validation accuracy 0.9758 F1 0.9063(macro) 0.9756(weighted) precision 0.9324 recall 0.8857 mcc 0.9661 elapsed 2.1695 seconds\n",
      "30 epoch: avg losses 1438164.0060 16077.7785 0.0000 0.0000 validation accuracy 0.9761 F1 0.9052(macro) 0.9758(weighted) precision 0.9283 recall 0.8865 mcc 0.9665 elapsed 2.1536 seconds\n",
      "31 epoch: avg losses 1436688.3891 13806.8193 0.0000 0.0000 validation accuracy 0.9764 F1 0.9093(macro) 0.9761(weighted) precision 0.9347 recall 0.8884 mcc 0.9669 elapsed 2.0867 seconds\n",
      "32 epoch: avg losses 1435079.7440 11830.9807 0.0000 0.0000 validation accuracy 0.9761 F1 0.9099(macro) 0.9758(weighted) precision 0.9380 recall 0.8868 mcc 0.9665 elapsed 2.0929 seconds\n",
      "33 epoch: avg losses 1433519.6613 10324.1534 0.0000 0.0000 validation accuracy 0.9761 F1 0.9095(macro) 0.9758(weighted) precision 0.9371 recall 0.8865 mcc 0.9665 elapsed 2.1275 seconds\n",
      "34 epoch: avg losses 1432102.2601 9033.2243 0.0000 0.0000 validation accuracy 0.9758 F1 0.9099(macro) 0.9756(weighted) precision 0.9319 recall 0.8919 mcc 0.9660 elapsed 2.1159 seconds\n",
      "35 epoch: avg losses 1430818.7883 8026.9031 0.0000 0.0000 validation accuracy 0.9764 F1 0.9102(macro) 0.9761(weighted) precision 0.9389 recall 0.8864 mcc 0.9669 elapsed 2.1625 seconds\n",
      "36 epoch: avg losses 1429551.1895 7100.6966 0.0000 0.0000 validation accuracy 0.9764 F1 0.9105(macro) 0.9761(weighted) precision 0.9331 recall 0.8918 mcc 0.9669 elapsed 2.3309 seconds\n",
      "37 epoch: avg losses 1428192.4032 6231.2193 0.0000 0.0000 validation accuracy 0.9761 F1 0.9100(macro) 0.9758(weighted) precision 0.9339 recall 0.8905 mcc 0.9665 elapsed 2.3827 seconds\n",
      "38 epoch: avg losses 1426874.6492 5412.4964 0.0000 0.0000 validation accuracy 0.9755 F1 0.9050(macro) 0.9753(weighted) precision 0.9260 recall 0.8878 mcc 0.9656 elapsed 2.1423 seconds\n",
      "39 epoch: avg losses 1425376.8004 4855.7122 0.0000 0.0000 validation accuracy 0.9758 F1 0.9058(macro) 0.9756(weighted) precision 0.9229 recall 0.8922 mcc 0.9661 elapsed 2.0300 seconds\n",
      "40 epoch: avg losses 1424295.5323 4387.2112 0.0000 0.0000 validation accuracy 0.9752 F1 0.9053(macro) 0.9750(weighted) precision 0.9226 recall 0.8914 mcc 0.9652 elapsed 2.1275 seconds\n",
      "41 epoch: avg losses 1423132.1935 4020.5033 0.0000 0.0000 validation accuracy 0.9752 F1 0.9053(macro) 0.9750(weighted) precision 0.9226 recall 0.8914 mcc 0.9652 elapsed 2.0557 seconds\n",
      "42 epoch: avg losses 1422020.2782 3661.7941 0.0000 0.0000 validation accuracy 0.9755 F1 0.9055(macro) 0.9753(weighted) precision 0.9229 recall 0.8915 mcc 0.9656 elapsed 2.3059 seconds\n",
      "43 epoch: avg losses 1420917.5625 3390.0755 0.0000 0.0000 validation accuracy 0.9752 F1 0.9038(macro) 0.9751(weighted) precision 0.9187 recall 0.8916 mcc 0.9652 elapsed 2.3993 seconds\n",
      "44 epoch: avg losses 1419866.2742 3087.0161 0.0000 0.0000 validation accuracy 0.9752 F1 0.9038(macro) 0.9750(weighted) precision 0.9188 recall 0.8914 mcc 0.9652 elapsed 2.3536 seconds\n",
      "45 epoch: avg losses 1418748.1734 2798.0770 0.0000 0.0000 validation accuracy 0.9746 F1 0.9028(macro) 0.9744(weighted) precision 0.9216 recall 0.8878 mcc 0.9644 elapsed 2.3338 seconds\n"
     ]
    },
    {
     "name": "stdout",
     "output_type": "stream",
     "text": [
      "46 epoch: avg losses 1417717.4879 2604.8549 0.0000 0.0000 validation accuracy 0.9749 F1 0.9041(macro) 0.9747(weighted) precision 0.9222 recall 0.8897 mcc 0.9648 elapsed 2.3487 seconds\n",
      "47 epoch: avg losses 1416738.2157 2442.1451 0.0000 0.0000 validation accuracy 0.9746 F1 0.9020(macro) 0.9744(weighted) precision 0.9196 recall 0.8875 mcc 0.9644 elapsed 2.3336 seconds\n",
      "48 epoch: avg losses 1415810.9617 2285.7822 0.0000 0.0000 validation accuracy 0.9749 F1 0.9023(macro) 0.9747(weighted) precision 0.9196 recall 0.8881 mcc 0.9648 elapsed 2.4537 seconds\n",
      "49 epoch: avg losses 1414811.7581 2092.2380 0.0000 0.0000 validation accuracy 0.9746 F1 0.9038(macro) 0.9743(weighted) precision 0.9253 recall 0.8863 mcc 0.9644 elapsed 2.3205 seconds\n",
      "50 epoch: avg losses 1413763.9395 1963.2834 0.0000 0.0000 validation accuracy 0.9744 F1 0.9025(macro) 0.9741(weighted) precision 0.9245 recall 0.8847 mcc 0.9640 elapsed 2.0997 seconds\n",
      "best validation accuracy 0.9782\n",
      "F1: 0.9089(macro) 0.9778(weighted) \n",
      "precision 0.9341 recall 0.8885 \n",
      "mcc 0.9693\n"
     ]
    }
   ],
   "source": [
    "%%bash\n",
    "\n",
    "python scClassifier3.py --sup-data-file /home/wsa/data/mtx_file_1850_6590/ref_dataset.mtx \\\n",
    "                        --sup-label-file /home/wsa/data/mtx_file_1850_6590/ref_dataset_cluster.txt \\\n",
    "                        --seed 42 \\\n",
    "                        -lr 0.0001 \\\n",
    "                        -n 50 \\\n",
    "                        -bs 1000 \\\n",
    "                        --aux-loss \\\n",
    "                        -ba \\\n",
    "                        --validation-fold 10 \\\n",
    "                        --cuda \\\n",
    "                        --save-model bench_glioma_model_1850_6590.pth"
   ]
  },
  {
   "cell_type": "code",
   "execution_count": 2,
   "metadata": {},
   "outputs": [],
   "source": [
    "import torch"
   ]
  },
  {
   "cell_type": "code",
   "execution_count": 3,
   "metadata": {},
   "outputs": [],
   "source": [
    "%matplotlib inline\n",
    "import matplotlib.pyplot as plt\n",
    "\n",
    "import pandas as pd\n",
    "from scipy.io import mmread\n",
    "from scClassifier3 import scClassifier3\n",
    "from utils.scdata_cached import SingleCellCached, transform_label2class, label2class_encoder, fn_y_scdata\n",
    "\n",
    "import torch\n",
    "from torch.utils.data import DataLoader\n",
    "import pyro.distributions as dist\n",
    "\n",
    "from sklearn.metrics import accuracy_score, f1_score, normalized_mutual_info_score, ConfusionMatrixDisplay\n",
    "from sklearn.preprocessing import StandardScaler, Normalizer, OneHotEncoder\n",
    "from sklearn.decomposition import PCA\n",
    "from sklearn.mixture import BayesianGaussianMixture\n",
    "\n",
    "import umap\n",
    "import numpy as np\n",
    "\n",
    "#import rpy2.robjects.packages as packages\n",
    "#import rpy2.robjects.lib.ggplot2 as ggplot2\n",
    "#import rpy2.robjects as ro\n",
    "#from rpy2.robjects import pandas2ri\n",
    "\n",
    "#from rpy2.robjects.conversion import localconverter\n",
    "\n",
    "\n",
    "plt.rcParams[\"figure.figsize\"] = (20, 10)"
   ]
  },
  {
   "cell_type": "code",
   "execution_count": 4,
   "metadata": {},
   "outputs": [],
   "source": [
    "ModelPath = 'bench_glioma_model_1850_6590.pth'\n",
    "\n",
    "\n",
    "altDataPath='/home/wsa/data/mtx_file_1850_6590/alt_dataset.mtx'\n",
    "altLabelPath=None\n",
    "\n",
    "\n",
    "refDataPath='/home/wsa/data/mtx_file_1850_6590/ref_dataset.mtx'\n",
    "refLabelPath='/home/wsa/data/mtx_file_1850_6590/ref_dataset_cluster.txt'\n",
    "\n"
   ]
  },
  {
   "cell_type": "code",
   "execution_count": 5,
   "metadata": {},
   "outputs": [],
   "source": [
    "# load model\n",
    "model = torch.load(ModelPath)"
   ]
  },
  {
   "cell_type": "code",
   "execution_count": 6,
   "metadata": {},
   "outputs": [],
   "source": [
    "# load data\n",
    "batch_size = 100\n",
    "use_float64 = False\n",
    "use_cuda = True\n",
    "\n",
    "alt_data_cached = SingleCellCached(altDataPath, altLabelPath, model.class2label, 'valid', use_cuda=False, use_float64 = use_float64)\n",
    "alt_data_loader = DataLoader(alt_data_cached, batch_size = batch_size, shuffle = False)\n",
    "\n",
    "ref_data_cached = SingleCellCached(refDataPath, refLabelPath, model.class2label, 'valid', use_cuda=False, use_float64 = use_float64)\n",
    "ref_data_loader = DataLoader(ref_data_cached, batch_size = batch_size, shuffle = False)"
   ]
  },
  {
   "cell_type": "code",
   "execution_count": 7,
   "metadata": {},
   "outputs": [],
   "source": [
    "# predict conditions\n",
    "#embeds顺序是先alt再ref\n",
    "embeds = []\n",
    "\n",
    "# use the appropriate data loader\n",
    "for (xs, ys) in alt_data_loader:\n",
    "    # use classification function to compute all predictions for each batch\n",
    "    embed = model.latent_embedding(xs)\n",
    "    embed = embed.cpu().detach().numpy()\n",
    "    embeds.append(embed)\n",
    "\n",
    "for (xs, _) in ref_data_loader:\n",
    "    # use classification function to compute all predictions for each batch\n",
    "    embed = model.latent_embedding(xs)\n",
    "    embed = embed.cpu().detach().numpy()\n",
    "    embeds.append(embed)\n",
    "\n",
    "embeds = np.concatenate(embeds, 0)\n"
   ]
  },
  {
   "cell_type": "code",
   "execution_count": 8,
   "metadata": {},
   "outputs": [],
   "source": [
    "#pos = umap.UMAP(metric='cosine').fit_transform(embeds)\n",
    "pos = umap.UMAP(metric='cosine', min_dist=0.3, random_state=42).fit_transform(embeds)"
   ]
  },
  {
   "cell_type": "code",
   "execution_count": 9,
   "metadata": {},
   "outputs": [],
   "source": [
    "pd.DataFrame(pos).to_csv('/home/wsa/data/bench_glioma_1850_6590_umap.txt')\n",
    "pd.DataFrame(embeds).to_csv('/home/wsa/data/bench_glioma_1850_6590_embed.txt')\n"
   ]
  },
  {
   "cell_type": "code",
   "execution_count": 10,
   "metadata": {},
   "outputs": [
    {
     "data": {
      "text/plain": [
       "array([[-2.381813 ,  0.7289363],\n",
       "       [-3.111574 ,  0.9498347],\n",
       "       [-1.4604592,  3.2768908],\n",
       "       ...,\n",
       "       [11.040182 ,  6.165334 ],\n",
       "       [ 7.499642 , 10.569274 ],\n",
       "       [ 4.405578 , 12.567219 ]], dtype=float32)"
      ]
     },
     "execution_count": 10,
     "metadata": {},
     "output_type": "execute_result"
    }
   ],
   "source": [
    "pos"
   ]
  },
  {
   "cell_type": "code",
   "execution_count": 11,
   "metadata": {},
   "outputs": [
    {
     "data": {
      "text/plain": [
       "(95566, 2)"
      ]
     },
     "execution_count": 11,
     "metadata": {},
     "output_type": "execute_result"
    }
   ],
   "source": [
    "pos.shape"
   ]
  },
  {
   "cell_type": "code",
   "execution_count": 12,
   "metadata": {},
   "outputs": [],
   "source": [
    "# predict conditions\n",
    "preds = []\n",
    "\n",
    "# use the appropriate data loader\n",
    "for (xs, ys) in alt_data_loader:\n",
    "    # use classification function to compute all predictions for each batch\n",
    "    pred = model.classifier(xs)\n",
    "    #pred = pred.detach().numpy()\n",
    "    _, pred = torch.topk(pred, 1)\n",
    "    pred = model.convert_to_label(pred)\n",
    "    preds.append(pred)\n",
    "\n",
    "\n",
    "preds = np.concatenate(preds, 0)"
   ]
  },
  {
   "cell_type": "code",
   "execution_count": 13,
   "metadata": {},
   "outputs": [],
   "source": [
    "pd.DataFrame(preds).to_csv('/home/wsa/data/mtx_file_1850_6590/alt_cluster_predict.txt')"
   ]
  },
  {
   "cell_type": "code",
   "execution_count": 14,
   "metadata": {},
   "outputs": [
    {
     "data": {
      "text/plain": [
       "(61649,)"
      ]
     },
     "execution_count": 14,
     "metadata": {},
     "output_type": "execute_result"
    }
   ],
   "source": [
    "preds.shape"
   ]
  },
  {
   "cell_type": "code",
   "execution_count": null,
   "metadata": {},
   "outputs": [],
   "source": [
    "\n",
    "\n",
    "\n",
    "\n",
    "\n",
    "\n",
    "\n",
    "\n",
    "\n",
    "\n",
    "\n",
    "\n",
    "\n"
   ]
  },
  {
   "cell_type": "code",
   "execution_count": 1,
   "metadata": {},
   "outputs": [
    {
     "name": "stdout",
     "output_type": "stream",
     "text": [
      "1 epoch: avg losses 1925774.4099 3910381.4265 0.0000 0.0000 validation accuracy 0.6687 F1 0.1599(macro) 0.5368(weighted) precision 0.1335 recall 0.1995 mcc 0.5428 elapsed 7.4243 seconds\n",
      "2 epoch: avg losses 1674594.7096 1902844.4706 0.0000 0.0000 validation accuracy 0.7695 F1 0.2557(macro) 0.6844(weighted) precision 0.2446 recall 0.2981 mcc 0.6978 elapsed 2.2678 seconds\n",
      "3 epoch: avg losses 1581042.4136 1019326.8116 0.0000 0.0000 validation accuracy 0.8920 F1 0.4426(macro) 0.8653(weighted) precision 0.4220 recall 0.4691 mcc 0.8553 elapsed 2.2060 seconds\n",
      "4 epoch: avg losses 1494067.2371 662009.2785 0.0000 0.0000 validation accuracy 0.9076 F1 0.4656(macro) 0.8840(weighted) precision 0.5079 recall 0.4914 mcc 0.8773 elapsed 2.3101 seconds\n",
      "5 epoch: avg losses 1448436.1985 495343.9315 0.0000 0.0000 validation accuracy 0.9283 F1 0.6110(macro) 0.9177(weighted) precision 0.6657 recall 0.5985 mcc 0.9042 elapsed 2.2086 seconds\n",
      "6 epoch: avg losses 1424687.8952 382148.3805 0.0000 0.0000 validation accuracy 0.9382 F1 0.6588(macro) 0.9318(weighted) precision 0.6780 recall 0.6505 mcc 0.9174 elapsed 2.1922 seconds\n",
      "7 epoch: avg losses 1410419.5331 312088.8051 0.0000 0.0000 validation accuracy 0.9449 F1 0.6776(macro) 0.9393(weighted) precision 0.6915 recall 0.6735 mcc 0.9263 elapsed 2.1651 seconds\n",
      "8 epoch: avg losses 1400405.5735 272006.4141 0.0000 0.0000 validation accuracy 0.9468 F1 0.7134(macro) 0.9419(weighted) precision 0.7701 recall 0.7124 mcc 0.9287 elapsed 2.1002 seconds\n",
      "9 epoch: avg losses 1391934.0478 245458.7408 0.0000 0.0000 validation accuracy 0.9516 F1 0.7377(macro) 0.9485(weighted) precision 0.7971 recall 0.7228 mcc 0.9354 elapsed 2.2011 seconds\n",
      "10 epoch: avg losses 1385150.0607 215726.8741 0.0000 0.0000 validation accuracy 0.9578 F1 0.8020(macro) 0.9563(weighted) precision 0.8159 recall 0.7918 mcc 0.9438 elapsed 2.3487 seconds\n",
      "11 epoch: avg losses 1380108.4559 190049.1388 0.0000 0.0000 validation accuracy 0.9597 F1 0.8166(macro) 0.9578(weighted) precision 0.8331 recall 0.8026 mcc 0.9460 elapsed 2.2177 seconds\n",
      "12 epoch: avg losses 1375868.3640 167830.3670 0.0000 0.0000 validation accuracy 0.9632 F1 0.8290(macro) 0.9614(weighted) precision 0.8367 recall 0.8230 mcc 0.9507 elapsed 2.1614 seconds\n",
      "13 epoch: avg losses 1372238.9246 154343.5597 0.0000 0.0000 validation accuracy 0.9618 F1 0.8215(macro) 0.9602(weighted) precision 0.8264 recall 0.8175 mcc 0.9489 elapsed 2.1374 seconds\n",
      "14 epoch: avg losses 1368452.0294 134646.8377 0.0000 0.0000 validation accuracy 0.9648 F1 0.8686(macro) 0.9640(weighted) precision 0.9367 recall 0.8472 mcc 0.9528 elapsed 2.2863 seconds\n",
      "15 epoch: avg losses 1365441.9651 123503.0986 0.0000 0.0000 validation accuracy 0.9637 F1 0.8755(macro) 0.9634(weighted) precision 0.9272 recall 0.8591 mcc 0.9515 elapsed 2.2397 seconds\n",
      "16 epoch: avg losses 1362608.1121 112983.4914 0.0000 0.0000 validation accuracy 0.9637 F1 0.8867(macro) 0.9635(weighted) precision 0.9338 recall 0.8649 mcc 0.9515 elapsed 2.3371 seconds\n",
      "17 epoch: avg losses 1359715.0570 100368.8851 0.0000 0.0000 validation accuracy 0.9643 F1 0.8935(macro) 0.9645(weighted) precision 0.9337 recall 0.8726 mcc 0.9524 elapsed 2.3790 seconds\n",
      "18 epoch: avg losses 1357503.6728 94423.1973 0.0000 0.0000 validation accuracy 0.9670 F1 0.9033(macro) 0.9667(weighted) precision 0.9392 recall 0.8843 mcc 0.9557 elapsed 2.2423 seconds\n",
      "19 epoch: avg losses 1355276.5882 85080.2579 0.0000 0.0000 validation accuracy 0.9659 F1 0.9007(macro) 0.9655(weighted) precision 0.9422 recall 0.8770 mcc 0.9543 elapsed 2.3981 seconds\n",
      "20 epoch: avg losses 1353361.0239 76990.5778 0.0000 0.0000 validation accuracy 0.9656 F1 0.9064(macro) 0.9655(weighted) precision 0.9354 recall 0.8891 mcc 0.9540 elapsed 2.3263 seconds\n",
      "21 epoch: avg losses 1351057.9246 68386.4198 0.0000 0.0000 validation accuracy 0.9661 F1 0.9015(macro) 0.9658(weighted) precision 0.9418 recall 0.8788 mcc 0.9547 elapsed 2.2779 seconds\n",
      "22 epoch: avg losses 1349297.9835 62682.1784 0.0000 0.0000 validation accuracy 0.9664 F1 0.9093(macro) 0.9663(weighted) precision 0.9378 recall 0.8924 mcc 0.9550 elapsed 2.2364 seconds\n",
      "23 epoch: avg losses 1347791.4908 56938.8386 0.0000 0.0000 validation accuracy 0.9645 F1 0.9085(macro) 0.9645(weighted) precision 0.9434 recall 0.8856 mcc 0.9526 elapsed 2.3882 seconds\n",
      "24 epoch: avg losses 1346214.1985 53386.4034 0.0000 0.0000 validation accuracy 0.9667 F1 0.9105(macro) 0.9665(weighted) precision 0.9433 recall 0.8893 mcc 0.9554 elapsed 2.3103 seconds\n",
      "25 epoch: avg losses 1344651.8199 47297.2607 0.0000 0.0000 validation accuracy 0.9661 F1 0.9132(macro) 0.9661(weighted) precision 0.9354 recall 0.8985 mcc 0.9547 elapsed 2.3214 seconds\n",
      "26 epoch: avg losses 1343414.4779 44231.5695 0.0000 0.0000 validation accuracy 0.9653 F1 0.9124(macro) 0.9651(weighted) precision 0.9405 recall 0.8918 mcc 0.9536 elapsed 2.2987 seconds\n",
      "27 epoch: avg losses 1342034.2831 39065.1252 0.0000 0.0000 validation accuracy 0.9651 F1 0.9124(macro) 0.9651(weighted) precision 0.9359 recall 0.8961 mcc 0.9533 elapsed 2.2089 seconds\n",
      "28 epoch: avg losses 1340780.7629 36587.8632 0.0000 0.0000 validation accuracy 0.9648 F1 0.9135(macro) 0.9650(weighted) precision 0.9298 recall 0.9021 mcc 0.9530 elapsed 2.2080 seconds\n",
      "29 epoch: avg losses 1339437.6158 31299.9313 0.0000 0.0000 validation accuracy 0.9651 F1 0.9122(macro) 0.9650(weighted) precision 0.9365 recall 0.8951 mcc 0.9532 elapsed 2.1847 seconds\n",
      "30 epoch: avg losses 1338014.2886 28329.5685 0.0000 0.0000 validation accuracy 0.9651 F1 0.9163(macro) 0.9649(weighted) precision 0.9367 recall 0.9001 mcc 0.9532 elapsed 2.2179 seconds\n",
      "31 epoch: avg losses 1336903.6489 24934.7543 0.0000 0.0000 validation accuracy 0.9656 F1 0.9176(macro) 0.9656(weighted) precision 0.9350 recall 0.9043 mcc 0.9540 elapsed 2.3440 seconds\n",
      "32 epoch: avg losses 1335516.1765 22449.6639 0.0000 0.0000 validation accuracy 0.9653 F1 0.9173(macro) 0.9653(weighted) precision 0.9353 recall 0.9034 mcc 0.9536 elapsed 2.2877 seconds\n",
      "33 epoch: avg losses 1334433.6746 20142.7260 0.0000 0.0000 validation accuracy 0.9645 F1 0.9206(macro) 0.9647(weighted) precision 0.9396 recall 0.9060 mcc 0.9526 elapsed 2.3608 seconds\n",
      "34 epoch: avg losses 1333028.0441 18137.7647 0.0000 0.0000 validation accuracy 0.9645 F1 0.9183(macro) 0.9645(weighted) precision 0.9410 recall 0.9003 mcc 0.9525 elapsed 2.2695 seconds\n",
      "35 epoch: avg losses 1331877.2096 16142.2363 0.0000 0.0000 validation accuracy 0.9653 F1 0.9194(macro) 0.9655(weighted) precision 0.9361 recall 0.9071 mcc 0.9537 elapsed 2.3037 seconds\n",
      "36 epoch: avg losses 1330827.9908 15027.7521 0.0000 0.0000 validation accuracy 0.9640 F1 0.9156(macro) 0.9639(weighted) precision 0.9364 recall 0.8992 mcc 0.9518 elapsed 2.3710 seconds\n",
      "37 epoch: avg losses 1329636.3346 12484.1183 0.0000 0.0000 validation accuracy 0.9637 F1 0.9159(macro) 0.9637(weighted) precision 0.9359 recall 0.9002 mcc 0.9514 elapsed 2.2589 seconds\n",
      "38 epoch: avg losses 1328404.0901 11793.8184 0.0000 0.0000 validation accuracy 0.9629 F1 0.9129(macro) 0.9629(weighted) precision 0.9360 recall 0.8946 mcc 0.9504 elapsed 2.3048 seconds\n",
      "39 epoch: avg losses 1327385.9265 10243.5495 0.0000 0.0000 validation accuracy 0.9621 F1 0.9108(macro) 0.9619(weighted) precision 0.9337 recall 0.8929 mcc 0.9492 elapsed 2.2911 seconds\n",
      "40 epoch: avg losses 1326330.3254 9213.1413 0.0000 0.0000 validation accuracy 0.9618 F1 0.9117(macro) 0.9618(weighted) precision 0.9322 recall 0.8958 mcc 0.9489 elapsed 2.2869 seconds\n",
      "41 epoch: avg losses 1325229.4430 8032.4573 0.0000 0.0000 validation accuracy 0.9645 F1 0.9159(macro) 0.9646(weighted) precision 0.9341 recall 0.9021 mcc 0.9526 elapsed 2.3062 seconds\n",
      "42 epoch: avg losses 1324216.5441 7527.4166 0.0000 0.0000 validation accuracy 0.9629 F1 0.9132(macro) 0.9627(weighted) precision 0.9365 recall 0.8944 mcc 0.9503 elapsed 2.2244 seconds\n",
      "43 epoch: avg losses 1323221.3676 7030.1710 0.0000 0.0000 validation accuracy 0.9637 F1 0.9135(macro) 0.9638(weighted) precision 0.9331 recall 0.8984 mcc 0.9515 elapsed 2.1161 seconds\n",
      "44 epoch: avg losses 1322347.2776 5918.0175 0.0000 0.0000 validation accuracy 0.9629 F1 0.9139(macro) 0.9629(weighted) precision 0.9334 recall 0.8987 mcc 0.9504 elapsed 2.1622 seconds\n",
      "45 epoch: avg losses 1321398.8566 5268.3804 0.0000 0.0000 validation accuracy 0.9616 F1 0.9102(macro) 0.9615(weighted) precision 0.9320 recall 0.8930 mcc 0.9485 elapsed 2.1267 seconds\n"
     ]
    },
    {
     "name": "stdout",
     "output_type": "stream",
     "text": [
      "46 epoch: avg losses 1320540.4982 4830.3479 0.0000 0.0000 validation accuracy 0.9627 F1 0.9136(macro) 0.9625(weighted) precision 0.9362 recall 0.8954 mcc 0.9500 elapsed 2.2304 seconds\n",
      "47 epoch: avg losses 1319726.7261 4461.1606 0.0000 0.0000 validation accuracy 0.9613 F1 0.9114(macro) 0.9612(weighted) precision 0.9348 recall 0.8924 mcc 0.9482 elapsed 2.1775 seconds\n",
      "48 epoch: avg losses 1318930.4412 4129.6912 0.0000 0.0000 validation accuracy 0.9632 F1 0.9145(macro) 0.9631(weighted) precision 0.9362 recall 0.8972 mcc 0.9507 elapsed 2.1479 seconds\n",
      "49 epoch: avg losses 1318203.3051 3776.8536 0.0000 0.0000 validation accuracy 0.9624 F1 0.9135(macro) 0.9623(weighted) precision 0.9357 recall 0.8957 mcc 0.9496 elapsed 2.1040 seconds\n",
      "50 epoch: avg losses 1317368.4246 3488.8784 0.0000 0.0000 validation accuracy 0.9610 F1 0.9084(macro) 0.9609(weighted) precision 0.9308 recall 0.8908 mcc 0.9478 elapsed 2.1758 seconds\n",
      "51 epoch: avg losses 1316618.4779 3161.6459 0.0000 0.0000 validation accuracy 0.9616 F1 0.9110(macro) 0.9614(weighted) precision 0.9348 recall 0.8919 mcc 0.9485 elapsed 2.2357 seconds\n",
      "52 epoch: avg losses 1315846.3585 2973.9602 0.0000 0.0000 validation accuracy 0.9616 F1 0.9110(macro) 0.9614(weighted) precision 0.9348 recall 0.8919 mcc 0.9485 elapsed 2.2135 seconds\n",
      "53 epoch: avg losses 1315215.9504 2760.1696 0.0000 0.0000 validation accuracy 0.9627 F1 0.9142(macro) 0.9626(weighted) precision 0.9356 recall 0.8972 mcc 0.9500 elapsed 2.2904 seconds\n",
      "54 epoch: avg losses 1314472.8162 2575.9326 0.0000 0.0000 validation accuracy 0.9618 F1 0.9099(macro) 0.9618(weighted) precision 0.9311 recall 0.8934 mcc 0.9489 elapsed 2.3951 seconds\n",
      "55 epoch: avg losses 1313804.4007 2387.9860 0.0000 0.0000 validation accuracy 0.9624 F1 0.9118(macro) 0.9623(weighted) precision 0.9331 recall 0.8951 mcc 0.9496 elapsed 2.3355 seconds\n",
      "56 epoch: avg losses 1313119.4926 2292.1952 0.0000 0.0000 validation accuracy 0.9624 F1 0.9134(macro) 0.9623(weighted) precision 0.9356 recall 0.8957 mcc 0.9496 elapsed 2.3350 seconds\n",
      "57 epoch: avg losses 1312590.8180 2108.8678 0.0000 0.0000 validation accuracy 0.9616 F1 0.9103(macro) 0.9615(weighted) precision 0.9327 recall 0.8926 mcc 0.9485 elapsed 2.3231 seconds\n",
      "58 epoch: avg losses 1311864.7426 1987.4766 0.0000 0.0000 validation accuracy 0.9627 F1 0.9146(macro) 0.9626(weighted) precision 0.9363 recall 0.8972 mcc 0.9500 elapsed 2.2490 seconds\n",
      "59 epoch: avg losses 1311180.5827 1920.8450 0.0000 0.0000 validation accuracy 0.9616 F1 0.9124(macro) 0.9614(weighted) precision 0.9355 recall 0.8937 mcc 0.9485 elapsed 2.2529 seconds\n",
      "60 epoch: avg losses 1310591.2188 1749.2982 0.0000 0.0000 validation accuracy 0.9613 F1 0.9106(macro) 0.9612(weighted) precision 0.9329 recall 0.8927 mcc 0.9482 elapsed 2.2348 seconds\n",
      "61 epoch: avg losses 1309960.1268 1654.9009 0.0000 0.0000 validation accuracy 0.9621 F1 0.9138(macro) 0.9620(weighted) precision 0.9360 recall 0.8958 mcc 0.9493 elapsed 2.2628 seconds\n",
      "62 epoch: avg losses 1309324.5478 1553.7916 0.0000 0.0000 validation accuracy 0.9616 F1 0.9124(macro) 0.9614(weighted) precision 0.9355 recall 0.8937 mcc 0.9485 elapsed 2.2254 seconds\n",
      "63 epoch: avg losses 1308732.7077 1527.9939 0.0000 0.0000 validation accuracy 0.9618 F1 0.9136(macro) 0.9617(weighted) precision 0.9358 recall 0.8957 mcc 0.9489 elapsed 2.2208 seconds\n",
      "64 epoch: avg losses 1308175.0312 1427.5559 0.0000 0.0000 validation accuracy 0.9613 F1 0.9117(macro) 0.9611(weighted) precision 0.9352 recall 0.8927 mcc 0.9482 elapsed 2.3121 seconds\n",
      "65 epoch: avg losses 1307588.8603 1360.1343 0.0000 0.0000 validation accuracy 0.9618 F1 0.9134(macro) 0.9618(weighted) precision 0.9344 recall 0.8966 mcc 0.9489 elapsed 2.2936 seconds\n",
      "66 epoch: avg losses 1307059.6599 1277.4137 0.0000 0.0000 validation accuracy 0.9610 F1 0.9104(macro) 0.9609(weighted) precision 0.9325 recall 0.8926 mcc 0.9478 elapsed 2.2778 seconds\n",
      "67 epoch: avg losses 1306564.3382 1251.4438 0.0000 0.0000 validation accuracy 0.9613 F1 0.9111(macro) 0.9612(weighted) precision 0.9328 recall 0.8936 mcc 0.9482 elapsed 2.2265 seconds\n",
      "68 epoch: avg losses 1306022.0018 1171.5491 0.0000 0.0000 validation accuracy 0.9608 F1 0.9097(macro) 0.9606(weighted) precision 0.9323 recall 0.8916 mcc 0.9475 elapsed 2.2845 seconds\n",
      "69 epoch: avg losses 1305470.1783 1109.5864 0.0000 0.0000 validation accuracy 0.9613 F1 0.9099(macro) 0.9612(weighted) precision 0.9311 recall 0.8930 mcc 0.9482 elapsed 2.2825 seconds\n",
      "70 epoch: avg losses 1304943.4338 1050.2645 0.0000 0.0000 validation accuracy 0.9613 F1 0.9101(macro) 0.9612(weighted) precision 0.9326 recall 0.8921 mcc 0.9482 elapsed 2.2532 seconds\n",
      "71 epoch: avg losses 1304362.0368 1006.3667 0.0000 0.0000 validation accuracy 0.9610 F1 0.9093(macro) 0.9609(weighted) precision 0.9309 recall 0.8920 mcc 0.9478 elapsed 2.2278 seconds\n",
      "72 epoch: avg losses 1303939.8456 964.7756 0.0000 0.0000 validation accuracy 0.9605 F1 0.9084(macro) 0.9603(weighted) precision 0.9308 recall 0.8904 mcc 0.9471 elapsed 2.1923 seconds\n",
      "73 epoch: avg losses 1303352.6471 926.5144 0.0000 0.0000 validation accuracy 0.9608 F1 0.9086(macro) 0.9606(weighted) precision 0.9308 recall 0.8910 mcc 0.9475 elapsed 2.3656 seconds\n",
      "74 epoch: avg losses 1302744.4338 889.0453 0.0000 0.0000 validation accuracy 0.9610 F1 0.9100(macro) 0.9609(weighted) precision 0.9327 recall 0.8917 mcc 0.9478 elapsed 2.2082 seconds\n",
      "75 epoch: avg losses 1302329.6011 853.5627 0.0000 0.0000 validation accuracy 0.9605 F1 0.9084(macro) 0.9604(weighted) precision 0.9306 recall 0.8907 mcc 0.9471 elapsed 2.4015 seconds\n",
      "76 epoch: avg losses 1301745.5441 805.4701 0.0000 0.0000 validation accuracy 0.9610 F1 0.9094(macro) 0.9609(weighted) precision 0.9325 recall 0.8909 mcc 0.9478 elapsed 2.2835 seconds\n",
      "77 epoch: avg losses 1301356.1029 783.2331 0.0000 0.0000 validation accuracy 0.9608 F1 0.9093(macro) 0.9606(weighted) precision 0.9322 recall 0.8910 mcc 0.9475 elapsed 2.3944 seconds\n",
      "78 epoch: avg losses 1300719.0441 740.6124 0.0000 0.0000 validation accuracy 0.9602 F1 0.9088(macro) 0.9602(weighted) precision 0.9303 recall 0.8917 mcc 0.9468 elapsed 2.3461 seconds\n",
      "79 epoch: avg losses 1300217.9577 720.0426 0.0000 0.0000 validation accuracy 0.9600 F1 0.9082(macro) 0.9599(weighted) precision 0.9301 recall 0.8907 mcc 0.9464 elapsed 2.2790 seconds\n",
      "80 epoch: avg losses 1299719.7739 692.5014 0.0000 0.0000 validation accuracy 0.9608 F1 0.9093(macro) 0.9606(weighted) precision 0.9322 recall 0.8910 mcc 0.9475 elapsed 2.3605 seconds\n",
      "81 epoch: avg losses 1299183.5074 657.1647 0.0000 0.0000 validation accuracy 0.9605 F1 0.9092(macro) 0.9604(weighted) precision 0.9319 recall 0.8909 mcc 0.9471 elapsed 2.1726 seconds\n",
      "82 epoch: avg losses 1298671.2463 636.3581 0.0000 0.0000 validation accuracy 0.9613 F1 0.9113(macro) 0.9611(weighted) precision 0.9353 recall 0.8917 mcc 0.9482 elapsed 2.1968 seconds\n",
      "83 epoch: avg losses 1298171.9908 612.8172 0.0000 0.0000 validation accuracy 0.9608 F1 0.9093(macro) 0.9606(weighted) precision 0.9322 recall 0.8910 mcc 0.9475 elapsed 2.2850 seconds\n",
      "84 epoch: avg losses 1297721.5956 589.0044 0.0000 0.0000 validation accuracy 0.9613 F1 0.9111(macro) 0.9611(weighted) precision 0.9341 recall 0.8925 mcc 0.9482 elapsed 2.3113 seconds\n",
      "85 epoch: avg losses 1297311.8051 582.0680 0.0000 0.0000 validation accuracy 0.9605 F1 0.9120(macro) 0.9604(weighted) precision 0.9371 recall 0.8916 mcc 0.9471 elapsed 2.3063 seconds\n",
      "86 epoch: avg losses 1296820.6967 550.4692 0.0000 0.0000 validation accuracy 0.9605 F1 0.9130(macro) 0.9604(weighted) precision 0.9395 recall 0.8916 mcc 0.9471 elapsed 2.2760 seconds\n",
      "87 epoch: avg losses 1296426.7335 530.6953 0.0000 0.0000 validation accuracy 0.9608 F1 0.9125(macro) 0.9606(weighted) precision 0.9384 recall 0.8916 mcc 0.9475 elapsed 2.1841 seconds\n",
      "88 epoch: avg losses 1295953.5974 521.2116 0.0000 0.0000 validation accuracy 0.9602 F1 0.9122(macro) 0.9601(weighted) precision 0.9380 recall 0.8914 mcc 0.9467 elapsed 2.2913 seconds\n",
      "89 epoch: avg losses 1295505.2224 489.1346 0.0000 0.0000 validation accuracy 0.9605 F1 0.9135(macro) 0.9604(weighted) precision 0.9404 recall 0.8919 mcc 0.9471 elapsed 2.2470 seconds\n",
      "90 epoch: avg losses 1295076.7739 478.0556 0.0000 0.0000 validation accuracy 0.9610 F1 0.9126(macro) 0.9609(weighted) precision 0.9388 recall 0.8915 mcc 0.9478 elapsed 2.3269 seconds\n"
     ]
    },
    {
     "name": "stdout",
     "output_type": "stream",
     "text": [
      "91 epoch: avg losses 1294681.2151 465.1102 0.0000 0.0000 validation accuracy 0.9602 F1 0.9122(macro) 0.9601(weighted) precision 0.9380 recall 0.8914 mcc 0.9467 elapsed 2.2722 seconds\n",
      "92 epoch: avg losses 1294267.5404 454.8943 0.0000 0.0000 validation accuracy 0.9608 F1 0.9134(macro) 0.9607(weighted) precision 0.9415 recall 0.8908 mcc 0.9475 elapsed 2.2144 seconds\n",
      "93 epoch: avg losses 1293914.6250 441.0120 0.0000 0.0000 validation accuracy 0.9608 F1 0.9136(macro) 0.9606(weighted) precision 0.9406 recall 0.8920 mcc 0.9475 elapsed 2.1954 seconds\n",
      "94 epoch: avg losses 1293400.8585 420.1103 0.0000 0.0000 validation accuracy 0.9608 F1 0.9136(macro) 0.9606(weighted) precision 0.9406 recall 0.8920 mcc 0.9475 elapsed 2.2118 seconds\n",
      "95 epoch: avg losses 1293080.9743 410.9998 0.0000 0.0000 validation accuracy 0.9608 F1 0.9136(macro) 0.9606(weighted) precision 0.9406 recall 0.8920 mcc 0.9475 elapsed 2.2806 seconds\n",
      "96 epoch: avg losses 1292704.4338 396.8631 0.0000 0.0000 validation accuracy 0.9608 F1 0.9136(macro) 0.9606(weighted) precision 0.9407 recall 0.8918 mcc 0.9474 elapsed 2.3608 seconds\n",
      "97 epoch: avg losses 1292294.9301 388.5286 0.0000 0.0000 validation accuracy 0.9608 F1 0.9133(macro) 0.9606(weighted) precision 0.9417 recall 0.8903 mcc 0.9474 elapsed 2.1652 seconds\n",
      "98 epoch: avg losses 1291907.3088 387.5613 0.0000 0.0000 validation accuracy 0.9605 F1 0.9128(macro) 0.9604(weighted) precision 0.9391 recall 0.8917 mcc 0.9471 elapsed 2.2429 seconds\n",
      "99 epoch: avg losses 1291514.0588 362.7609 0.0000 0.0000 validation accuracy 0.9610 F1 0.9139(macro) 0.9609(weighted) precision 0.9427 recall 0.8906 mcc 0.9478 elapsed 2.2022 seconds\n",
      "100 epoch: avg losses 1291085.4026 352.0355 0.0000 0.0000 validation accuracy 0.9610 F1 0.9139(macro) 0.9609(weighted) precision 0.9427 recall 0.8906 mcc 0.9478 elapsed 2.2014 seconds\n",
      "best validation accuracy 0.9670\n",
      "F1: 0.9033(macro) 0.9667(weighted) \n",
      "precision 0.9392 recall 0.8843 \n",
      "mcc 0.9557\n"
     ]
    }
   ],
   "source": [
    "%%bash\n",
    "\n",
    "python scClassifier3.py --sup-data-file /home/wsa/data/mtx_file_1850_6590/ref_dataset.mtx \\\n",
    "                        --sup-label-file /home/wsa/data/mtx_file_1850_6590/ref_dataset_cluster.txt \\\n",
    "                        -lr 0.0001 \\\n",
    "                        -n 100 \\\n",
    "                        -bs 1000 \\\n",
    "                        --aux-loss \\\n",
    "                        -ba \\\n",
    "                        --validation-fold 10 \\\n",
    "                        --cuda \\\n",
    "                        --save-model bench_glioma_model_1850_6590.pth"
   ]
  },
  {
   "cell_type": "code",
   "execution_count": 2,
   "metadata": {},
   "outputs": [],
   "source": [
    "import torch"
   ]
  },
  {
   "cell_type": "code",
   "execution_count": 3,
   "metadata": {},
   "outputs": [],
   "source": [
    "%matplotlib inline\n",
    "import matplotlib.pyplot as plt\n",
    "\n",
    "import pandas as pd\n",
    "from scipy.io import mmread\n",
    "from scClassifier3 import scClassifier3\n",
    "from utils.scdata_cached import SingleCellCached, transform_label2class, label2class_encoder, fn_y_scdata\n",
    "\n",
    "import torch\n",
    "from torch.utils.data import DataLoader\n",
    "import pyro.distributions as dist\n",
    "\n",
    "from sklearn.metrics import accuracy_score, f1_score, normalized_mutual_info_score, ConfusionMatrixDisplay\n",
    "from sklearn.preprocessing import StandardScaler, Normalizer, OneHotEncoder\n",
    "from sklearn.decomposition import PCA\n",
    "from sklearn.mixture import BayesianGaussianMixture\n",
    "\n",
    "import umap\n",
    "import numpy as np\n",
    "\n",
    "#import rpy2.robjects.packages as packages\n",
    "#import rpy2.robjects.lib.ggplot2 as ggplot2\n",
    "#import rpy2.robjects as ro\n",
    "#from rpy2.robjects import pandas2ri\n",
    "\n",
    "#from rpy2.robjects.conversion import localconverter\n",
    "\n",
    "\n",
    "plt.rcParams[\"figure.figsize\"] = (20, 10)\n"
   ]
  },
  {
   "cell_type": "code",
   "execution_count": 4,
   "metadata": {},
   "outputs": [],
   "source": [
    "ModelPath = 'bench_glioma_model_1850_6590.pth'\n",
    "\n",
    "\n",
    "DataPath='/home/wsa/data/mtx_file_1850_6590/ref_dataset.mtx'\n",
    "LabelPath='/home/wsa/data/mtx_file_1850_6590/ref_dataset_cluster.txt'\n"
   ]
  },
  {
   "cell_type": "code",
   "execution_count": 5,
   "metadata": {},
   "outputs": [],
   "source": [
    "# load model\n",
    "model = torch.load(ModelPath)"
   ]
  },
  {
   "cell_type": "code",
   "execution_count": 6,
   "metadata": {},
   "outputs": [],
   "source": [
    "# load data\n",
    "batch_size = 100\n",
    "use_float64 = False\n",
    "use_cuda = True\n",
    "\n",
    "data_cached = SingleCellCached(DataPath, LabelPath, model.class2label, 'valid', use_cuda=use_cuda, use_float64 = use_float64)\n",
    "data_loader = DataLoader(data_cached, batch_size = batch_size, shuffle = False)\n",
    "\n"
   ]
  },
  {
   "cell_type": "code",
   "execution_count": 7,
   "metadata": {},
   "outputs": [],
   "source": [
    "# predict conditions\n",
    "embeds = []\n",
    "\n",
    "# use the appropriate data loader\n",
    "for (xs, ys) in data_loader:\n",
    "    # use classification function to compute all predictions for each batch\n",
    "    embed = model.latent_embedding(xs)\n",
    "    embed = embed.cpu().detach().numpy()\n",
    "    embeds.append(embed)\n",
    "\n",
    "\n",
    "embeds = np.concatenate(embeds, 0)\n"
   ]
  },
  {
   "cell_type": "code",
   "execution_count": 8,
   "metadata": {},
   "outputs": [],
   "source": [
    "pos = umap.UMAP(metric='cosine').fit_transform(embeds)"
   ]
  },
  {
   "cell_type": "code",
   "execution_count": 9,
   "metadata": {},
   "outputs": [],
   "source": [
    "pd.DataFrame(pos).to_csv('/home/wsa/data/bench_glioma_1850_6590_umap.txt')\n",
    "pd.DataFrame(embeds).to_csv('/home/wsa/data/bench_glioma_1850_6590_embed.txt')\n"
   ]
  },
  {
   "cell_type": "code",
   "execution_count": 10,
   "metadata": {},
   "outputs": [
    {
     "data": {
      "text/plain": [
       "array([[-15.052851  ,  -5.0287185 ,   9.000813  , ...,  11.017386  ,\n",
       "          0.6479977 ,  -0.6629161 ],\n",
       "       [-11.735896  ,  -8.026761  ,   5.9618692 , ...,   8.955553  ,\n",
       "         -2.105571  ,  -3.4055307 ],\n",
       "       [-15.596005  ,  -8.662388  ,   7.8774867 , ...,  11.170952  ,\n",
       "         -1.3596898 ,  -1.8923374 ],\n",
       "       ...,\n",
       "       [ 18.895384  ,   4.2272325 , -10.582079  , ..., -14.539312  ,\n",
       "        -21.199095  , -13.400319  ],\n",
       "       [ 19.66027   ,   0.94381285, -10.617459  , ..., -10.467498  ,\n",
       "        -16.906261  , -10.964936  ],\n",
       "       [ 36.11611   ,   1.4363946 , -19.080034  , ..., -20.001402  ,\n",
       "        -30.891768  , -20.762785  ]], dtype=float32)"
      ]
     },
     "execution_count": 10,
     "metadata": {},
     "output_type": "execute_result"
    }
   ],
   "source": [
    "embeds"
   ]
  },
  {
   "cell_type": "code",
   "execution_count": 11,
   "metadata": {},
   "outputs": [
    {
     "data": {
      "text/plain": [
       "(37216, 2)"
      ]
     },
     "execution_count": 11,
     "metadata": {},
     "output_type": "execute_result"
    }
   ],
   "source": [
    "pos.shape"
   ]
  },
  {
   "cell_type": "code",
   "execution_count": 12,
   "metadata": {},
   "outputs": [
    {
     "data": {
      "text/plain": [
       "(37216, 50)"
      ]
     },
     "execution_count": 12,
     "metadata": {},
     "output_type": "execute_result"
    }
   ],
   "source": [
    "embeds.shape"
   ]
  },
  {
   "cell_type": "code",
   "execution_count": null,
   "metadata": {},
   "outputs": [],
   "source": []
  }
 ],
 "metadata": {
  "interpreter": {
   "hash": "705d2180a8d3806c011eeb980cdb14749c2bbbebf661a11693d6315c18f55427"
  },
  "kernelspec": {
   "display_name": "Python 3 (ipykernel)",
   "language": "python",
   "name": "python3"
  },
  "language_info": {
   "codemirror_mode": {
    "name": "ipython",
    "version": 3
   },
   "file_extension": ".py",
   "mimetype": "text/x-python",
   "name": "python",
   "nbconvert_exporter": "python",
   "pygments_lexer": "ipython3",
   "version": "3.9.12"
  }
 },
 "nbformat": 4,
 "nbformat_minor": 2
}
