{
 "cells": [
  {
   "cell_type": "code",
   "execution_count": 2,
   "metadata": {},
   "outputs": [
    {
     "name": "stdout",
     "output_type": "stream",
     "text": [
      "1 epoch: avg losses 2107244.2125 0.0000 validation accuracy 0.0138 F1 0.0027(macro) 0.0004(weighted) precision 0.0014 recall 0.1000 mcc 0.0000 elapsed 12.5171 seconds\n"
     ]
    },
    {
     "name": "stderr",
     "output_type": "stream",
     "text": [
      "Traceback (most recent call last):\n",
      "  File \"/home/wsa/code/glioma/scClassifier3v2/scClassifier3.py\", line 807, in <module>\n",
      "    main(args)\n",
      "  File \"/home/wsa/code/glioma/scClassifier3v2/scClassifier3.py\", line 520, in main\n",
      "    epoch_losses_sup, epoch_losses_unsup = run_inference_for_epoch(\n",
      "  File \"/home/wsa/code/glioma/scClassifier3v2/scClassifier3.py\", line 348, in run_inference_for_epoch\n",
      "    new_loss = losses[loss_id].step(xs, ys)\n",
      "  File \"/home/wsa/.conda/envs/wsa/lib/python3.9/site-packages/pyro/infer/svi.py\", line 145, in step\n",
      "    loss = self.loss_and_grads(self.model, self.guide, *args, **kwargs)\n",
      "  File \"/home/wsa/.conda/envs/wsa/lib/python3.9/site-packages/pyro/infer/traceenum_elbo.py\", line 451, in loss_and_grads\n",
      "    for model_trace, guide_trace in self._get_traces(model, guide, args, kwargs):\n",
      "  File \"/home/wsa/.conda/envs/wsa/lib/python3.9/site-packages/pyro/infer/traceenum_elbo.py\", line 394, in _get_traces\n",
      "    yield self._get_trace(model, guide, args, kwargs)\n",
      "  File \"/home/wsa/.conda/envs/wsa/lib/python3.9/site-packages/pyro/infer/traceenum_elbo.py\", line 339, in _get_trace\n",
      "    model_trace, guide_trace = get_importance_trace(\n",
      "  File \"/home/wsa/.conda/envs/wsa/lib/python3.9/site-packages/pyro/infer/enum.py\", line 75, in get_importance_trace\n",
      "    model_trace.compute_log_prob()\n",
      "  File \"/home/wsa/.conda/envs/wsa/lib/python3.9/site-packages/pyro/poutine/trace_struct.py\", line 230, in compute_log_prob\n",
      "    log_p = site[\"fn\"].log_prob(\n",
      "  File \"/home/wsa/.conda/envs/wsa/lib/python3.9/site-packages/pyro/distributions/conjugate.py\", line 210, in log_prob\n",
      "    return _log_beta_1(alpha.sum(-1), value.sum(-1), self.is_sparse) - _log_beta_1(\n",
      "  File \"/home/wsa/.conda/envs/wsa/lib/python3.9/site-packages/pyro/distributions/conjugate.py\", line 30, in _log_beta_1\n",
      "    torch.lgamma(1 + value) + torch.lgamma(alpha) - torch.lgamma(value + alpha)\n",
      "KeyboardInterrupt\n"
     ]
    },
    {
     "name": "stdout",
     "output_type": "stream",
     "text": [
      "Error while terminating subprocess (pid=58642): \n"
     ]
    }
   ],
   "source": [
    "%%bash\n",
    "\n",
    "python scClassifier3.py --sup-data-file /home/wsa/data/mtx_file/ref_dataset.mtx \\\n",
    "                        --sup-label-file /home/wsa/data/mtx_file/ref_dataset_cluster.txt \\\n",
    "                        --unsup-data-file /home/wsa/data/mtx_file/alt_dataset.mtx \\ \n",
    "                        -lr 0.0001 \\\n",
    "                        -n 100 \\\n",
    "                        -bs 1000 \\\n",
    "                        --aux-loss \\\n",
    "                        -ba \\\n",
    "                        --validation-fold 10 \\\n",
    "                        --cuda \\\n",
    "                        --save-model bench_allglioma_with_tumor_model.pth\n",
    "                        \n"
   ]
  },
  {
   "cell_type": "code",
   "execution_count": 4,
   "metadata": {},
   "outputs": [],
   "source": [
    "import torch"
   ]
  },
  {
   "cell_type": "code",
   "execution_count": 5,
   "metadata": {},
   "outputs": [],
   "source": [
    "%matplotlib inline\n",
    "import matplotlib.pyplot as plt\n",
    "\n",
    "import pandas as pd\n",
    "from scipy.io import mmread\n",
    "from scClassifier3 import scClassifier3\n",
    "from utils.scdata_cached import SingleCellCached, transform_label2class, label2class_encoder, fn_y_scdata\n",
    "\n",
    "import torch\n",
    "from torch.utils.data import DataLoader\n",
    "import pyro.distributions as dist\n",
    "\n",
    "from sklearn.metrics import accuracy_score, f1_score, normalized_mutual_info_score, ConfusionMatrixDisplay\n",
    "from sklearn.preprocessing import StandardScaler, Normalizer, OneHotEncoder\n",
    "from sklearn.decomposition import PCA\n",
    "from sklearn.mixture import BayesianGaussianMixture\n",
    "\n",
    "import umap\n",
    "import numpy as np\n",
    "\n",
    "#import rpy2.robjects.packages as packages\n",
    "#import rpy2.robjects.lib.ggplot2 as ggplot2\n",
    "#import rpy2.robjects as ro\n",
    "#from rpy2.robjects import pandas2ri\n",
    "\n",
    "#from rpy2.robjects.conversion import localconverter\n",
    "\n",
    "\n",
    "plt.rcParams[\"figure.figsize\"] = (20, 10)\n"
   ]
  },
  {
   "cell_type": "code",
   "execution_count": 6,
   "metadata": {},
   "outputs": [],
   "source": [
    "ModelPath = 'bench_glioma_with_tumor_model.pth'\n",
    "\n",
    "\n",
    "altDataPath='/home/wsa/data/mtx_file1/alt_dataset.mtx'\n",
    "altLabelPath=None\n",
    "\n",
    "\n",
    "refDataPath='/home/wsa/data/mtx_file1/ref_dataset.mtx'\n",
    "refLabelPath='/home/wsa/data/mtx_file1/ref_dataset_cluster.txt'\n",
    "\n"
   ]
  },
  {
   "cell_type": "code",
   "execution_count": 7,
   "metadata": {},
   "outputs": [],
   "source": [
    "# load model\n",
    "model = torch.load(ModelPath)"
   ]
  },
  {
   "cell_type": "code",
   "execution_count": 8,
   "metadata": {},
   "outputs": [],
   "source": [
    "# load data\n",
    "batch_size = 100\n",
    "use_float64 = False\n",
    "use_cuda = True\n",
    "\n",
    "alt_data_cached = SingleCellCached(altDataPath, altLabelPath, model.class2label, 'valid', use_cuda=False, use_float64 = use_float64)\n",
    "alt_data_loader = DataLoader(alt_data_cached, batch_size = batch_size, shuffle = False)\n",
    "\n",
    "ref_data_cached = SingleCellCached(refDataPath, refLabelPath, model.class2label, 'valid', use_cuda=False, use_float64 = use_float64)\n",
    "ref_data_loader = DataLoader(ref_data_cached, batch_size = batch_size, shuffle = False)\n"
   ]
  },
  {
   "cell_type": "code",
   "execution_count": 9,
   "metadata": {},
   "outputs": [],
   "source": [
    "# predict conditions\n",
    "#embeds顺序是先alt再ref\n",
    "embeds = []\n",
    "\n",
    "# use the appropriate data loader\n",
    "for (xs, ys) in alt_data_loader:\n",
    "    # use classification function to compute all predictions for each batch\n",
    "    embed = model.latent_embedding(xs)\n",
    "    embed = embed.cpu().detach().numpy()\n",
    "    embeds.append(embed)\n",
    "\n",
    "for (xs, _) in ref_data_loader:\n",
    "    # use classification function to compute all predictions for each batch\n",
    "    embed = model.latent_embedding(xs)\n",
    "    embed = embed.cpu().detach().numpy()\n",
    "    embeds.append(embed)\n",
    "\n",
    "embeds = np.concatenate(embeds, 0)\n"
   ]
  },
  {
   "cell_type": "code",
   "execution_count": 10,
   "metadata": {},
   "outputs": [],
   "source": [
    "#pos = umap.UMAP(metric='cosine').fit_transform(embeds)\n",
    "pos = umap.UMAP(metric='cosine', min_dist=0.3).fit_transform(embeds)"
   ]
  },
  {
   "cell_type": "code",
   "execution_count": 11,
   "metadata": {},
   "outputs": [],
   "source": [
    "pd.DataFrame(pos).to_csv('/home/wsa/data/bench_allglioma_with_tumor_dataset_scp_umap.txt')\n",
    "pd.DataFrame(embeds).to_csv('/home/wsa/data/bench_allglioma_with_tumor_dataset_scp_embed.txt')\n"
   ]
  },
  {
   "cell_type": "code",
   "execution_count": 12,
   "metadata": {},
   "outputs": [
    {
     "data": {
      "text/plain": [
       "array([[ 8.226536  , -0.9431042 ],\n",
       "       [ 9.305362  , -0.72358406],\n",
       "       [10.220177  ,  3.7061162 ],\n",
       "       ...,\n",
       "       [ 0.5446433 , 11.32099   ],\n",
       "       [ 2.8834095 , 15.416737  ],\n",
       "       [ 4.4273167 , 15.697309  ]], dtype=float32)"
      ]
     },
     "execution_count": 12,
     "metadata": {},
     "output_type": "execute_result"
    }
   ],
   "source": [
    "pos"
   ]
  },
  {
   "cell_type": "code",
   "execution_count": 14,
   "metadata": {},
   "outputs": [
    {
     "data": {
      "text/plain": [
       "(80745, 2)"
      ]
     },
     "execution_count": 14,
     "metadata": {},
     "output_type": "execute_result"
    }
   ],
   "source": [
    "pos.shape"
   ]
  },
  {
   "cell_type": "code",
   "execution_count": 15,
   "metadata": {},
   "outputs": [],
   "source": [
    "# predict conditions\n",
    "preds = []\n",
    "\n",
    "# use the appropriate data loader\n",
    "for (xs, ys) in alt_data_loader:\n",
    "    # use classification function to compute all predictions for each batch\n",
    "    pred = model.classifier(xs)\n",
    "    #pred = pred.detach().numpy()\n",
    "    _, pred = torch.topk(pred, 1)\n",
    "    pred = model.convert_to_label(pred)\n",
    "    preds.append(pred)\n",
    "\n",
    "\n",
    "preds = np.concatenate(preds, 0)"
   ]
  },
  {
   "cell_type": "code",
   "execution_count": 17,
   "metadata": {},
   "outputs": [],
   "source": [
    "pd.DataFrame(preds).to_csv('/home/wsa/data/mtx_file1/alt_cluster_predict.txt')"
   ]
  },
  {
   "cell_type": "code",
   "execution_count": null,
   "metadata": {},
   "outputs": [],
   "source": []
  }
 ],
 "metadata": {
  "interpreter": {
   "hash": "705d2180a8d3806c011eeb980cdb14749c2bbbebf661a11693d6315c18f55427"
  },
  "kernelspec": {
   "display_name": "Python 3 (ipykernel)",
   "language": "python",
   "name": "python3"
  },
  "language_info": {
   "codemirror_mode": {
    "name": "ipython",
    "version": 3
   },
   "file_extension": ".py",
   "mimetype": "text/x-python",
   "name": "python",
   "nbconvert_exporter": "python",
   "pygments_lexer": "ipython3",
   "version": "3.9.12"
  }
 },
 "nbformat": 4,
 "nbformat_minor": 2
}
