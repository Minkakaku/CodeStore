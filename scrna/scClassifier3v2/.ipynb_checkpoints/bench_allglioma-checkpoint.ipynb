{
 "cells": [
  {
   "cell_type": "code",
   "execution_count": 1,
   "metadata": {},
   "outputs": [
    {
     "name": "stdout",
     "output_type": "stream",
     "text": [
      "1 epoch: avg losses 2364289.6042 5197386.5417 2704750.8365 0.0000 validation accuracy 0.0281 F1 0.0068(macro) 0.0015(weighted) precision 0.0035 recall 0.1250 mcc 0.0000 elapsed 7.2017 seconds\n",
      "2 epoch: avg losses 2154257.1979 4873422.0833 2522553.9231 0.0000 validation accuracy 0.0281 F1 0.0068(macro) 0.0015(weighted) precision 0.0035 recall 0.1250 mcc 0.0000 elapsed 2.3914 seconds\n",
      "3 epoch: avg losses 2111216.0833 4534253.8750 2462974.9038 0.0000 validation accuracy 0.0281 F1 0.0068(macro) 0.0015(weighted) precision 0.0035 recall 0.1250 mcc 0.0000 elapsed 2.3000 seconds\n",
      "4 epoch: avg losses 2074052.4444 4121765.0417 2420267.5385 0.0000 validation accuracy 0.5533 F1 0.0891(macro) 0.3942(weighted) precision 0.0692 recall 0.1250 mcc 0.0000 elapsed 2.4157 seconds\n",
      "5 epoch: avg losses 2037471.6250 3654053.6250 2381471.3365 0.0000 validation accuracy 0.5533 F1 0.0891(macro) 0.3942(weighted) precision 0.0692 recall 0.1250 mcc 0.0000 elapsed 2.1700 seconds\n",
      "6 epoch: avg losses 1996689.3854 3218063.9722 2341144.5577 0.0000 validation accuracy 0.5533 F1 0.0891(macro) 0.3942(weighted) precision 0.0692 recall 0.1250 mcc 0.0000 elapsed 2.2042 seconds\n",
      "7 epoch: avg losses 1946182.2812 2933142.9514 2300702.7885 0.0000 validation accuracy 0.5533 F1 0.0891(macro) 0.3942(weighted) precision 0.0692 recall 0.1250 mcc 0.0000 elapsed 2.3196 seconds\n",
      "8 epoch: avg losses 1889315.3542 2788221.1806 2264444.9808 0.0000 validation accuracy 0.5533 F1 0.0891(macro) 0.3942(weighted) precision 0.0692 recall 0.1250 mcc 0.0000 elapsed 2.4329 seconds\n",
      "9 epoch: avg losses 1833238.9271 2700402.3542 2234929.6154 0.0000 validation accuracy 0.5533 F1 0.0891(macro) 0.3942(weighted) precision 0.0692 recall 0.1250 mcc 0.0000 elapsed 2.4655 seconds\n",
      "10 epoch: avg losses 1783218.3646 2634061.1181 2213179.7308 0.0000 validation accuracy 0.5533 F1 0.0891(macro) 0.3942(weighted) precision 0.0692 recall 0.1250 mcc 0.0000 elapsed 2.4257 seconds\n",
      "11 epoch: avg losses 1740744.4444 2575703.3160 2198147.5769 0.0000 validation accuracy 0.5533 F1 0.0891(macro) 0.3942(weighted) precision 0.0692 recall 0.1250 mcc 0.0000 elapsed 2.4929 seconds\n",
      "12 epoch: avg losses 1705462.5938 2519741.8785 2188726.5288 0.0000 validation accuracy 0.5533 F1 0.0891(macro) 0.3942(weighted) precision 0.0692 recall 0.1250 mcc 0.0000 elapsed 2.3780 seconds\n",
      "13 epoch: avg losses 1675996.7569 2462496.4097 2182691.6538 0.0000 validation accuracy 0.5533 F1 0.0892(macro) 0.3947(weighted) precision 0.0693 recall 0.1250 mcc 0.0133 elapsed 2.3451 seconds\n",
      "14 epoch: avg losses 1652068.4097 2402564.1528 2179085.2885 0.0000 validation accuracy 0.5533 F1 0.0899(macro) 0.3978(weighted) precision 0.0701 recall 0.1250 mcc 0.0392 elapsed 2.4403 seconds\n",
      "15 epoch: avg losses 1632356.2361 2338535.4549 2177314.7212 0.0000 validation accuracy 0.5647 F1 0.1159(macro) 0.4330(weighted) precision 0.1251 recall 0.1392 mcc 0.1336 elapsed 2.2882 seconds\n",
      "16 epoch: avg losses 1615345.0851 2270239.6701 2176829.9231 0.0000 validation accuracy 0.6344 F1 0.1950(macro) 0.5076(weighted) precision 0.1750 recall 0.2255 mcc 0.3620 elapsed 2.3230 seconds\n",
      "17 epoch: avg losses 1600054.5764 2197764.8299 2177741.2212 0.0000 validation accuracy 0.6505 F1 0.2050(macro) 0.5167(weighted) precision 0.1771 recall 0.2455 mcc 0.4122 elapsed 2.3986 seconds\n",
      "18 epoch: avg losses 1587934.3681 2121522.6458 2179277.4038 0.0000 validation accuracy 0.6568 F1 0.2114(macro) 0.5308(weighted) precision 0.2297 recall 0.2498 mcc 0.4214 elapsed 2.3844 seconds\n",
      "19 epoch: avg losses 1577518.4896 2043435.6042 2181540.5000 0.0000 validation accuracy 0.6641 F1 0.2193(macro) 0.5509(weighted) precision 0.2201 recall 0.2540 mcc 0.4257 elapsed 2.3516 seconds\n",
      "20 epoch: avg losses 1568458.8316 1965397.5590 2183293.7596 0.0000 validation accuracy 0.6713 F1 0.2250(macro) 0.5682(weighted) precision 0.2180 recall 0.2591 mcc 0.4348 elapsed 2.3242 seconds\n",
      "21 epoch: avg losses 1561470.5087 1887913.3611 2185762.0577 0.0000 validation accuracy 0.6802 F1 0.2323(macro) 0.5860(weighted) precision 0.2236 recall 0.2641 mcc 0.4498 elapsed 2.3677 seconds\n",
      "22 epoch: avg losses 1555258.1372 1814962.6736 2187334.7500 0.0000 validation accuracy 0.6932 F1 0.2419(macro) 0.6086(weighted) precision 0.2320 recall 0.2720 mcc 0.4737 elapsed 2.2851 seconds\n",
      "23 epoch: avg losses 1549990.6250 1750184.0764 2189131.5577 0.0000 validation accuracy 0.7031 F1 0.2502(macro) 0.6252(weighted) precision 0.2395 recall 0.2779 mcc 0.4913 elapsed 2.3742 seconds\n",
      "24 epoch: avg losses 1545291.6510 1687727.6701 2189912.3269 0.0000 validation accuracy 0.7088 F1 0.2542(macro) 0.6345(weighted) precision 0.2423 recall 0.2814 mcc 0.5016 elapsed 2.4453 seconds\n",
      "25 epoch: avg losses 1541725.0677 1628424.2118 2190404.3654 0.0000 validation accuracy 0.7400 F1 0.2750(macro) 0.6802(weighted) precision 0.2578 recall 0.3008 mcc 0.5587 elapsed 2.4716 seconds\n",
      "26 epoch: avg losses 1537819.2118 1572846.6562 2192005.9327 0.0000 validation accuracy 0.7665 F1 0.2901(macro) 0.7137(weighted) precision 0.2691 recall 0.3173 mcc 0.6079 elapsed 2.4236 seconds\n",
      "27 epoch: avg losses 1533937.4427 1520369.3628 2191853.5288 0.0000 validation accuracy 0.7728 F1 0.2934(macro) 0.7207(weighted) precision 0.2720 recall 0.3207 mcc 0.6191 elapsed 2.4776 seconds\n",
      "28 epoch: avg losses 1530259.7465 1470891.1389 2191566.0481 0.0000 validation accuracy 0.7837 F1 0.2994(macro) 0.7348(weighted) precision 0.2758 recall 0.3291 mcc 0.6414 elapsed 2.4458 seconds\n",
      "29 epoch: avg losses 1526119.3316 1425913.9844 2190774.7885 0.0000 validation accuracy 0.7878 F1 0.3020(macro) 0.7401(weighted) precision 0.2779 recall 0.3324 mcc 0.6501 elapsed 2.4198 seconds\n",
      "30 epoch: avg losses 1522952.0069 1383682.7292 2189991.0577 0.0000 validation accuracy 0.7894 F1 0.3027(macro) 0.7415(weighted) precision 0.2786 recall 0.3330 mcc 0.6526 elapsed 2.4743 seconds\n",
      "31 epoch: avg losses 1518559.3021 1344345.7691 2188853.9038 0.0000 validation accuracy 0.7972 F1 0.3064(macro) 0.7500(weighted) precision 0.2817 recall 0.3378 mcc 0.6678 elapsed 2.2745 seconds\n",
      "32 epoch: avg losses 1515068.7066 1308192.4479 2187563.9038 0.0000 validation accuracy 0.7977 F1 0.3060(macro) 0.7495(weighted) precision 0.2817 recall 0.3365 mcc 0.6670 elapsed 2.3534 seconds\n",
      "33 epoch: avg losses 1511124.3212 1274899.1736 2185181.2692 0.0000 validation accuracy 0.8045 F1 0.3105(macro) 0.7592(weighted) precision 0.2848 recall 0.3450 mcc 0.6856 elapsed 2.3203 seconds\n",
      "34 epoch: avg losses 1507938.8576 1244429.7795 2183192.9615 0.0000 validation accuracy 0.8071 F1 0.3113(macro) 0.7616(weighted) precision 0.2855 recall 0.3458 mcc 0.6896 elapsed 2.2223 seconds\n",
      "35 epoch: avg losses 1504554.2153 1215313.2066 2180749.0288 0.0000 validation accuracy 0.8097 F1 0.3123(macro) 0.7645(weighted) precision 0.2864 recall 0.3477 mcc 0.6955 elapsed 2.3443 seconds\n",
      "36 epoch: avg losses 1500499.0486 1188192.5990 2177999.1538 0.0000 validation accuracy 0.8112 F1 0.3122(macro) 0.7649(weighted) precision 0.2863 recall 0.3464 mcc 0.6952 elapsed 2.2664 seconds\n",
      "37 epoch: avg losses 1496792.3837 1162716.4878 2174192.7404 0.0000 validation accuracy 0.8138 F1 0.3133(macro) 0.7677(weighted) precision 0.2873 recall 0.3480 mcc 0.7004 elapsed 2.4239 seconds\n",
      "38 epoch: avg losses 1493195.5399 1139013.5243 2170742.2596 0.0000 validation accuracy 0.8149 F1 0.3142(macro) 0.7694(weighted) precision 0.2880 recall 0.3499 mcc 0.7044 elapsed 2.4892 seconds\n",
      "39 epoch: avg losses 1489288.0938 1117064.3819 2166161.9231 0.0000 validation accuracy 0.8170 F1 0.3148(macro) 0.7717(weighted) precision 0.2884 recall 0.3514 mcc 0.7090 elapsed 2.3942 seconds\n",
      "40 epoch: avg losses 1485726.0938 1095755.0417 2160816.5385 0.0000 validation accuracy 0.8185 F1 0.3149(macro) 0.7730(weighted) precision 0.2884 recall 0.3516 mcc 0.7110 elapsed 2.4227 seconds\n",
      "41 epoch: avg losses 1481868.8194 1075372.4618 2155521.8846 0.0000 validation accuracy 0.8211 F1 0.3154(macro) 0.7749(weighted) precision 0.2888 recall 0.3517 mcc 0.7139 elapsed 2.3385 seconds\n",
      "42 epoch: avg losses 1478928.7222 1056490.5556 2149129.7404 0.0000 validation accuracy 0.8196 F1 0.3152(macro) 0.7746(weighted) precision 0.2885 recall 0.3533 mcc 0.7150 elapsed 2.4273 seconds\n",
      "43 epoch: avg losses 1475318.0781 1041705.7604 2142759.0865 0.0000 validation accuracy 0.8222 F1 0.3155(macro) 0.7767(weighted) precision 0.2884 recall 0.3539 mcc 0.7186 elapsed 2.4108 seconds\n"
     ]
    },
    {
     "name": "stdout",
     "output_type": "stream",
     "text": [
      "44 epoch: avg losses 1471731.8038 1025168.2569 2135815.4038 0.0000 validation accuracy 0.8201 F1 0.3147(macro) 0.7752(weighted) precision 0.2875 recall 0.3538 mcc 0.7164 elapsed 2.3557 seconds\n",
      "45 epoch: avg losses 1468658.1892 1011290.1059 2128057.9808 0.0000 validation accuracy 0.8201 F1 0.3172(macro) 0.7761(weighted) precision 0.4120 recall 0.3562 mcc 0.7178 elapsed 2.4615 seconds\n",
      "46 epoch: avg losses 1465461.9757 997891.4931 2120688.4135 0.0000 validation accuracy 0.8211 F1 0.3198(macro) 0.7776(weighted) precision 0.4120 recall 0.3574 mcc 0.7187 elapsed 2.2641 seconds\n",
      "47 epoch: avg losses 1463013.9323 982705.4340 2112751.5288 0.0000 validation accuracy 0.8274 F1 0.3338(macro) 0.7863(weighted) precision 0.3864 recall 0.3646 mcc 0.7269 elapsed 2.3343 seconds\n",
      "48 epoch: avg losses 1460132.4913 967555.9688 2103768.2981 0.0000 validation accuracy 0.8274 F1 0.3335(macro) 0.7871(weighted) precision 0.3486 recall 0.3646 mcc 0.7269 elapsed 2.1341 seconds\n",
      "49 epoch: avg losses 1456930.9340 953706.7361 2095762.2885 0.0000 validation accuracy 0.8294 F1 0.3396(macro) 0.7908(weighted) precision 0.3388 recall 0.3676 mcc 0.7280 elapsed 2.3524 seconds\n",
      "50 epoch: avg losses 1454657.7448 939675.9670 2087376.9231 0.0000 validation accuracy 0.8305 F1 0.3458(macro) 0.7945(weighted) precision 0.3356 recall 0.3724 mcc 0.7291 elapsed 2.4273 seconds\n",
      "51 epoch: avg losses 1452024.0017 926952.1910 2079817.4808 0.0000 validation accuracy 0.8341 F1 0.3513(macro) 0.7990(weighted) precision 0.3394 recall 0.3758 mcc 0.7335 elapsed 2.3727 seconds\n",
      "52 epoch: avg losses 1450120.4601 914226.7326 2070661.0865 0.0000 validation accuracy 0.8357 F1 0.3543(macro) 0.8015(weighted) precision 0.3397 recall 0.3790 mcc 0.7359 elapsed 2.3700 seconds\n",
      "53 epoch: avg losses 1448327.0295 901765.1910 2063095.8462 0.0000 validation accuracy 0.8362 F1 0.3558(macro) 0.8024(weighted) precision 0.3411 recall 0.3800 mcc 0.7367 elapsed 2.3149 seconds\n",
      "54 epoch: avg losses 1446052.5052 890115.2049 2055832.8365 0.0000 validation accuracy 0.8378 F1 0.3657(macro) 0.8063(weighted) precision 0.3492 recall 0.3910 mcc 0.7416 elapsed 2.4265 seconds\n",
      "55 epoch: avg losses 1444746.5851 879517.2899 2048419.7115 0.0000 validation accuracy 0.8409 F1 0.3866(macro) 0.8126(weighted) precision 0.4775 recall 0.4037 mcc 0.7474 elapsed 2.3447 seconds\n",
      "56 epoch: avg losses 1443514.7153 868625.1146 2042691.7019 0.0000 validation accuracy 0.8424 F1 0.3889(macro) 0.8143(weighted) precision 0.4794 recall 0.4056 mcc 0.7490 elapsed 2.3003 seconds\n",
      "57 epoch: avg losses 1442497.9010 856361.2830 2036850.7115 0.0000 validation accuracy 0.8450 F1 0.3991(macro) 0.8182(weighted) precision 0.4845 recall 0.4145 mcc 0.7532 elapsed 2.3878 seconds\n",
      "58 epoch: avg losses 1441214.8681 846031.4115 2031204.1154 0.0000 validation accuracy 0.8466 F1 0.4087(macro) 0.8214(weighted) precision 0.4862 recall 0.4220 mcc 0.7576 elapsed 2.2694 seconds\n",
      "59 epoch: avg losses 1440454.7153 836400.0573 2025961.0192 0.0000 validation accuracy 0.8482 F1 0.4139(macro) 0.8231(weighted) precision 0.4879 recall 0.4255 mcc 0.7590 elapsed 2.2909 seconds\n",
      "60 epoch: avg losses 1439801.6615 824883.6840 2021204.9519 0.0000 validation accuracy 0.8508 F1 0.4196(macro) 0.8265(weighted) precision 0.4897 recall 0.4305 mcc 0.7641 elapsed 2.3497 seconds\n",
      "61 epoch: avg losses 1439209.6476 816933.5868 2017621.3654 0.0000 validation accuracy 0.8518 F1 0.4201(macro) 0.8278(weighted) precision 0.4901 recall 0.4318 mcc 0.7670 elapsed 2.4046 seconds\n",
      "62 epoch: avg losses 1438289.1875 810498.0703 2013287.6346 0.0000 validation accuracy 0.8534 F1 0.4286(macro) 0.8305(weighted) precision 0.4910 recall 0.4385 mcc 0.7690 elapsed 2.1031 seconds\n",
      "63 epoch: avg losses 1437549.7726 798300.5321 2009619.4038 0.0000 validation accuracy 0.8575 F1 0.4440(macro) 0.8352(weighted) precision 0.4955 recall 0.4479 mcc 0.7724 elapsed 2.1577 seconds\n",
      "64 epoch: avg losses 1436792.9010 784521.1424 2006772.7212 0.0000 validation accuracy 0.8518 F1 0.4318(macro) 0.8281(weighted) precision 0.4922 recall 0.4374 mcc 0.7615 elapsed 2.1731 seconds\n",
      "65 epoch: avg losses 1436082.1198 775099.8620 2003706.6058 0.0000 validation accuracy 0.8544 F1 0.4344(macro) 0.8306(weighted) precision 0.4944 recall 0.4400 mcc 0.7651 elapsed 2.4886 seconds\n",
      "66 epoch: avg losses 1435222.5694 766504.1979 2001079.6154 0.0000 validation accuracy 0.8586 F1 0.4509(macro) 0.8365(weighted) precision 0.4993 recall 0.4539 mcc 0.7721 elapsed 2.4437 seconds\n",
      "67 epoch: avg losses 1435115.8056 757168.3351 1998809.4615 0.0000 validation accuracy 0.8632 F1 0.4561(macro) 0.8423(weighted) precision 0.5006 recall 0.4605 mcc 0.7821 elapsed 2.4804 seconds\n",
      "68 epoch: avg losses 1434184.3819 748847.2778 1996244.9423 0.0000 validation accuracy 0.8612 F1 0.4596(macro) 0.8403(weighted) precision 0.5018 recall 0.4629 mcc 0.7775 elapsed 2.3753 seconds\n",
      "69 epoch: avg losses 1434294.8455 739269.4444 1994132.1635 0.0000 validation accuracy 0.8658 F1 0.4634(macro) 0.8454(weighted) precision 0.5045 recall 0.4683 mcc 0.7863 elapsed 2.4797 seconds\n",
      "70 epoch: avg losses 1433070.8351 731243.5833 1992492.6538 0.0000 validation accuracy 0.8690 F1 0.4697(macro) 0.8491(weighted) precision 0.5074 recall 0.4758 mcc 0.7927 elapsed 2.3645 seconds\n",
      "71 epoch: avg losses 1433101.3767 723220.0035 1990183.7212 0.0000 validation accuracy 0.8710 F1 0.4735(macro) 0.8513(weighted) precision 0.5085 recall 0.4794 mcc 0.7955 elapsed 2.2310 seconds\n",
      "72 epoch: avg losses 1432553.4878 713647.6111 1988589.4231 0.0000 validation accuracy 0.8684 F1 0.4722(macro) 0.8484(weighted) precision 0.5080 recall 0.4766 mcc 0.7899 elapsed 2.2282 seconds\n",
      "73 epoch: avg losses 1432140.0174 703912.6701 1987012.4712 0.0000 validation accuracy 0.8731 F1 0.4761(macro) 0.8532(weighted) precision 0.5109 recall 0.4822 mcc 0.7985 elapsed 2.4633 seconds\n",
      "74 epoch: avg losses 1431412.9479 695071.5564 1984836.4712 0.0000 validation accuracy 0.8679 F1 0.4876(macro) 0.8494(weighted) precision 0.5930 recall 0.4864 mcc 0.7881 elapsed 2.2709 seconds\n",
      "75 epoch: avg losses 1431529.4965 685443.9392 1983623.8846 0.0000 validation accuracy 0.8690 F1 0.4914(macro) 0.8508(weighted) precision 0.5738 recall 0.4906 mcc 0.7894 elapsed 2.2841 seconds\n",
      "76 epoch: avg losses 1430790.5729 676353.7465 1982586.3077 0.0000 validation accuracy 0.8679 F1 0.4874(macro) 0.8492(weighted) precision 0.5742 recall 0.4869 mcc 0.7875 elapsed 2.1543 seconds\n",
      "77 epoch: avg losses 1430287.6736 667645.8264 1981178.1827 0.0000 validation accuracy 0.8731 F1 0.5084(macro) 0.8558(weighted) precision 0.5999 recall 0.5017 mcc 0.7955 elapsed 2.1757 seconds\n",
      "78 epoch: avg losses 1429705.8038 658843.3811 1979692.8269 0.0000 validation accuracy 0.8736 F1 0.5074(macro) 0.8565(weighted) precision 0.6060 recall 0.5015 mcc 0.7966 elapsed 2.3373 seconds\n",
      "79 epoch: avg losses 1429353.8611 650039.0391 1978045.1154 0.0000 validation accuracy 0.8788 F1 0.5252(macro) 0.8637(weighted) precision 0.6009 recall 0.5167 mcc 0.8060 elapsed 2.3493 seconds\n",
      "80 epoch: avg losses 1428789.6562 641888.8689 1977077.5577 0.0000 validation accuracy 0.8783 F1 0.5264(macro) 0.8631(weighted) precision 0.6019 recall 0.5184 mcc 0.8049 elapsed 2.1863 seconds\n",
      "81 epoch: avg losses 1428663.3021 633076.2917 1975704.4327 0.0000 validation accuracy 0.8851 F1 0.5470(macro) 0.8719(weighted) precision 0.6162 recall 0.5335 mcc 0.8171 elapsed 2.1422 seconds\n",
      "82 epoch: avg losses 1428652.3872 625189.8490 1974802.7500 0.0000 validation accuracy 0.8872 F1 0.5556(macro) 0.8743(weighted) precision 0.6231 recall 0.5405 mcc 0.8198 elapsed 2.0922 seconds\n",
      "83 epoch: avg losses 1427629.6424 616920.1198 1973412.6250 0.0000 validation accuracy 0.8825 F1 0.5570(macro) 0.8695(weighted) precision 0.6247 recall 0.5397 mcc 0.8113 elapsed 2.2779 seconds\n",
      "84 epoch: avg losses 1427119.2274 608807.5330 1972643.6635 0.0000 validation accuracy 0.8856 F1 0.5658(macro) 0.8734(weighted) precision 0.6277 recall 0.5490 mcc 0.8166 elapsed 2.2469 seconds\n",
      "85 epoch: avg losses 1427423.9757 601728.2405 1971598.0385 0.0000 validation accuracy 0.8908 F1 0.5727(macro) 0.8793(weighted) precision 0.6280 recall 0.5568 mcc 0.8259 elapsed 2.4401 seconds\n",
      "86 epoch: avg losses 1426618.5885 594542.9253 1971019.3173 0.0000 validation accuracy 0.8887 F1 0.5722(macro) 0.8769(weighted) precision 0.6284 recall 0.5550 mcc 0.8217 elapsed 2.3396 seconds\n"
     ]
    },
    {
     "name": "stdout",
     "output_type": "stream",
     "text": [
      "87 epoch: avg losses 1426280.6528 586612.8872 1970447.1731 0.0000 validation accuracy 0.8882 F1 0.5731(macro) 0.8764(weighted) precision 0.6272 recall 0.5554 mcc 0.8209 elapsed 2.4321 seconds\n",
      "88 epoch: avg losses 1425441.2917 579689.5564 1969278.3942 0.0000 validation accuracy 0.8892 F1 0.5805(macro) 0.8778(weighted) precision 0.6295 recall 0.5628 mcc 0.8221 elapsed 2.2703 seconds\n",
      "89 epoch: avg losses 1425252.1927 572180.5833 1968656.5096 0.0000 validation accuracy 0.8898 F1 0.5780(macro) 0.8784(weighted) precision 0.6250 recall 0.5616 mcc 0.8235 elapsed 2.3112 seconds\n",
      "90 epoch: avg losses 1424572.6302 564650.9957 1968395.6923 0.0000 validation accuracy 0.8908 F1 0.5805(macro) 0.8795(weighted) precision 0.6259 recall 0.5637 mcc 0.8248 elapsed 2.4079 seconds\n",
      "91 epoch: avg losses 1423968.7622 558008.5252 1967477.0962 0.0000 validation accuracy 0.8934 F1 0.5840(macro) 0.8829(weighted) precision 0.6227 recall 0.5697 mcc 0.8301 elapsed 2.3039 seconds\n",
      "92 epoch: avg losses 1423568.9219 552090.9236 1966574.1250 0.0000 validation accuracy 0.8965 F1 0.5904(macro) 0.8864(weighted) precision 0.6243 recall 0.5794 mcc 0.8353 elapsed 2.4642 seconds\n",
      "93 epoch: avg losses 1423098.9462 544907.7170 1966143.2596 0.0000 validation accuracy 0.8960 F1 0.5901(macro) 0.8858(weighted) precision 0.6242 recall 0.5789 mcc 0.8343 elapsed 2.3286 seconds\n",
      "94 epoch: avg losses 1422670.7309 538318.4844 1965181.1731 0.0000 validation accuracy 0.8976 F1 0.5892(macro) 0.8874(weighted) precision 0.6235 recall 0.5777 mcc 0.8372 elapsed 2.4095 seconds\n",
      "95 epoch: avg losses 1421640.0156 531257.2743 1964641.8846 0.0000 validation accuracy 0.8960 F1 0.5906(macro) 0.8857(weighted) precision 0.6239 recall 0.5790 mcc 0.8335 elapsed 2.4254 seconds\n",
      "96 epoch: avg losses 1421399.9549 524247.9054 1964016.8462 0.0000 validation accuracy 0.8976 F1 0.5933(macro) 0.8878(weighted) precision 0.6240 recall 0.5840 mcc 0.8368 elapsed 2.3946 seconds\n",
      "97 epoch: avg losses 1420554.4462 518581.3594 1963237.5673 0.0000 validation accuracy 0.8970 F1 0.5927(macro) 0.8870(weighted) precision 0.6248 recall 0.5818 mcc 0.8353 elapsed 2.2823 seconds\n",
      "98 epoch: avg losses 1419842.2222 511256.4323 1962394.7788 0.0000 validation accuracy 0.8960 F1 0.5917(macro) 0.8860(weighted) precision 0.6231 recall 0.5812 mcc 0.8336 elapsed 2.2582 seconds\n",
      "99 epoch: avg losses 1420165.0972 505449.2092 1962108.6635 0.0000 validation accuracy 0.8996 F1 0.5961(macro) 0.8903(weighted) precision 0.6241 recall 0.5877 mcc 0.8407 elapsed 2.4180 seconds\n",
      "100 epoch: avg losses 1418934.9444 500551.5530 1961524.2019 0.0000 validation accuracy 0.9007 F1 0.5964(macro) 0.8916(weighted) precision 0.6241 recall 0.5883 mcc 0.8425 elapsed 2.3950 seconds\n",
      "best validation accuracy 0.9007\n",
      "F1: 0.5964(macro) 0.8916(weighted) \n",
      "precision 0.6241 recall 0.5883 \n",
      "mcc 0.8425\n"
     ]
    }
   ],
   "source": [
    "%%bash\n",
    "\n",
    "python scClassifier3.py --sup-data-file /home/wsa/data/mtx_file/ref_dataset.mtx \\\n",
    "                        --sup-label-file /home/wsa/data/mtx_file/ref_dataset_cluster.txt \\\n",
    "                        --unsup-data-file /home/wsa/data/mtx_file/alt_dataset.mtx \\\n",
    "                        -lr 0.00001 \\\n",
    "                        -n 100 \\\n",
    "                        -bs 1000 \\\n",
    "                        --aux-loss \\\n",
    "                        -ba \\\n",
    "                        --validation-fold 10 \\\n",
    "                        --cuda \\\n",
    "                        --save-model bench_allglioma_model.pth\n",
    "                        \n"
   ]
  },
  {
   "cell_type": "code",
   "execution_count": 2,
   "metadata": {},
   "outputs": [],
   "source": [
    "import torch"
   ]
  },
  {
   "cell_type": "code",
   "execution_count": 3,
   "metadata": {},
   "outputs": [],
   "source": [
    "%matplotlib inline\n",
    "import matplotlib.pyplot as plt\n",
    "\n",
    "import pandas as pd\n",
    "from scipy.io import mmread\n",
    "from scClassifier3 import scClassifier3\n",
    "from utils.scdata_cached import SingleCellCached, transform_label2class, label2class_encoder, fn_y_scdata\n",
    "\n",
    "import torch\n",
    "from torch.utils.data import DataLoader\n",
    "import pyro.distributions as dist\n",
    "\n",
    "from sklearn.metrics import accuracy_score, f1_score, normalized_mutual_info_score, ConfusionMatrixDisplay\n",
    "from sklearn.preprocessing import StandardScaler, Normalizer, OneHotEncoder\n",
    "from sklearn.decomposition import PCA\n",
    "from sklearn.mixture import BayesianGaussianMixture\n",
    "\n",
    "import umap\n",
    "import numpy as np\n",
    "\n",
    "#import rpy2.robjects.packages as packages\n",
    "#import rpy2.robjects.lib.ggplot2 as ggplot2\n",
    "#import rpy2.robjects as ro\n",
    "#from rpy2.robjects import pandas2ri\n",
    "\n",
    "#from rpy2.robjects.conversion import localconverter\n",
    "\n",
    "\n",
    "plt.rcParams[\"figure.figsize\"] = (20, 10)\n"
   ]
  },
  {
   "cell_type": "code",
   "execution_count": 4,
   "metadata": {},
   "outputs": [],
   "source": [
    "ModelPath = 'bench_allglioma_model.pth'\n",
    "\n",
    "\n",
    "DataPath='/home/wsa/data/mtx_file/ref_dataset.mtx'\n",
    "LabelPath='/home/wsa/data/mtx_file/ref_dataset_cluster.txt'\n"
   ]
  },
  {
   "cell_type": "code",
   "execution_count": 5,
   "metadata": {},
   "outputs": [],
   "source": [
    "# load model\n",
    "model = torch.load(ModelPath)"
   ]
  },
  {
   "cell_type": "code",
   "execution_count": 6,
   "metadata": {},
   "outputs": [],
   "source": [
    "# load data\n",
    "batch_size = 100\n",
    "use_float64 = False\n",
    "use_cuda = True\n",
    "\n",
    "data_cached = SingleCellCached(DataPath, LabelPath, model.class2label, 'valid', use_cuda=use_cuda, use_float64 = use_float64)\n",
    "data_loader = DataLoader(data_cached, batch_size = batch_size, shuffle = False)\n",
    "\n"
   ]
  },
  {
   "cell_type": "code",
   "execution_count": 8,
   "metadata": {},
   "outputs": [],
   "source": [
    "# predict conditions\n",
    "embeds = []\n",
    "\n",
    "# use the appropriate data loader\n",
    "for (xs, ys) in data_loader:\n",
    "    # use classification function to compute all predictions for each batch\n",
    "    embed = model.latent_embedding(xs)\n",
    "    embed = embed.cpu().detach().numpy()\n",
    "    embeds.append(embed)\n",
    "\n",
    "\n",
    "embeds = np.concatenate(embeds, 0)\n"
   ]
  },
  {
   "cell_type": "code",
   "execution_count": 9,
   "metadata": {},
   "outputs": [],
   "source": [
    "pos = umap.UMAP(metric='cosine').fit_transform(embeds)"
   ]
  },
  {
   "cell_type": "code",
   "execution_count": 10,
   "metadata": {},
   "outputs": [],
   "source": [
    "pd.DataFrame(pos).to_csv('/home/wsa/data/bench_glioma_dataset_scp_umap.txt')\n",
    "pd.DataFrame(embeds).to_csv('/home/wsa/data/bench_glioma_dataset_scp_embed.txt')\n"
   ]
  },
  {
   "cell_type": "code",
   "execution_count": 11,
   "metadata": {},
   "outputs": [
    {
     "data": {
      "text/plain": [
       "array([[ 5.620175  ,  2.1723151 ,  3.7135024 , ...,  5.5992827 ,\n",
       "        -1.3655393 ,  2.481062  ],\n",
       "       [ 2.4639497 , -0.5260759 ,  0.90378183, ...,  1.9910841 ,\n",
       "         0.16392429,  0.5698184 ],\n",
       "       [ 5.8465843 ,  0.2319716 ,  3.2753272 , ...,  5.4474792 ,\n",
       "         0.9197982 ,  1.4238337 ],\n",
       "       ...,\n",
       "       [ 0.45269892, -6.0875816 , -3.2040532 , ..., -1.7070882 ,\n",
       "         6.624799  , -4.429815  ],\n",
       "       [ 1.10352   , -3.8873754 , -1.7300231 , ..., -0.48005268,\n",
       "         4.4531703 , -2.808359  ],\n",
       "       [ 1.7044187 , -4.3509607 , -2.2466848 , ..., -0.7387763 ,\n",
       "         5.7693553 , -4.6099925 ]], dtype=float32)"
      ]
     },
     "execution_count": 11,
     "metadata": {},
     "output_type": "execute_result"
    }
   ],
   "source": [
    "embeds"
   ]
  },
  {
   "cell_type": "code",
   "execution_count": 12,
   "metadata": {},
   "outputs": [
    {
     "data": {
      "text/plain": [
       "(19234, 2)"
      ]
     },
     "execution_count": 12,
     "metadata": {},
     "output_type": "execute_result"
    }
   ],
   "source": [
    "pos.shape"
   ]
  },
  {
   "cell_type": "code",
   "execution_count": 13,
   "metadata": {},
   "outputs": [
    {
     "data": {
      "text/plain": [
       "(19234, 50)"
      ]
     },
     "execution_count": 13,
     "metadata": {},
     "output_type": "execute_result"
    }
   ],
   "source": [
    "embeds.shape"
   ]
  },
  {
   "cell_type": "code",
   "execution_count": null,
   "metadata": {},
   "outputs": [],
   "source": []
  }
 ],
 "metadata": {
  "interpreter": {
   "hash": "705d2180a8d3806c011eeb980cdb14749c2bbbebf661a11693d6315c18f55427"
  },
  "kernelspec": {
   "display_name": "Python 3 (ipykernel)",
   "language": "python",
   "name": "python3"
  },
  "language_info": {
   "codemirror_mode": {
    "name": "ipython",
    "version": 3
   },
   "file_extension": ".py",
   "mimetype": "text/x-python",
   "name": "python",
   "nbconvert_exporter": "python",
   "pygments_lexer": "ipython3",
   "version": "3.9.12"
  }
 },
 "nbformat": 4,
 "nbformat_minor": 2
}
