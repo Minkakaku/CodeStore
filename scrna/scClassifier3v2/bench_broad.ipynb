{
    "cells": [
        {
            "cell_type": "code",
            "execution_count": 19,
            "metadata": {},
            "outputs": [
                {
                    "name": "stderr",
                    "output_type": "stream",
                    "text": [
                        "Numba: Attempted to fork from a non-main thread, the TBB library may be in an invalid state in the child process.\n"
                    ]
                },
                {
                    "name": "stdout",
                    "output_type": "stream",
                    "text": [
                        "1 epoch: avg losses 811683.8728 4552895.9107 0.0000 0.0000 validation accuracy 0.2946 F1 0.0455(macro) 0.1341(weighted) precision 0.0295 recall 0.1000 mcc 0.0000 elapsed 4.9796 seconds\n",
                        "2 epoch: avg losses 623221.1496 3876535.5268 0.0000 0.0000 validation accuracy 0.4142 F1 0.1346(macro) 0.2965(weighted) precision 0.1527 recall 0.1689 mcc 0.2937 elapsed 2.3606 seconds\n",
                        "3 epoch: avg losses 560758.4754 3090010.3571 0.0000 0.0000 validation accuracy 0.6086 F1 0.2452(macro) 0.5024(weighted) precision 0.2408 recall 0.2867 mcc 0.5326 elapsed 2.3646 seconds\n",
                        "4 epoch: avg losses 553891.5603 2135693.9152 0.0000 0.0000 validation accuracy 0.7444 F1 0.3210(macro) 0.6920(weighted) precision 0.3071 recall 0.3449 mcc 0.6769 elapsed 2.3913 seconds\n",
                        "5 epoch: avg losses 547058.4922 1586313.8348 0.0000 0.0000 validation accuracy 0.8024 F1 0.4002(macro) 0.7611(weighted) precision 0.4961 recall 0.4004 mcc 0.7471 elapsed 2.3943 seconds\n",
                        "6 epoch: avg losses 532461.7333 1130925.3929 0.0000 0.0000 validation accuracy 0.8472 F1 0.5484(macro) 0.8287(weighted) precision 0.5822 recall 0.5478 mcc 0.8053 elapsed 2.3917 seconds\n",
                        "7 epoch: avg losses 518379.4308 874169.6562 0.0000 0.0000 validation accuracy 0.8762 F1 0.6037(macro) 0.8660(weighted) precision 0.6024 recall 0.6088 mcc 0.8428 elapsed 2.3974 seconds\n",
                        "8 epoch: avg losses 510639.5781 755670.1094 0.0000 0.0000 validation accuracy 0.8823 F1 0.6126(macro) 0.8731(weighted) precision 0.6028 recall 0.6254 mcc 0.8509 elapsed 2.4029 seconds\n",
                        "9 epoch: avg losses 505974.2009 694906.4196 0.0000 0.0000 validation accuracy 0.8872 F1 0.6335(macro) 0.8796(weighted) precision 0.6459 recall 0.6390 mcc 0.8571 elapsed 2.3528 seconds\n",
                        "10 epoch: avg losses 502244.8103 647963.1585 0.0000 0.0000 validation accuracy 0.8885 F1 0.6323(macro) 0.8808(weighted) precision 0.6600 recall 0.6393 mcc 0.8589 elapsed 2.3735 seconds\n",
                        "11 epoch: avg losses 499210.2020 612652.1786 0.0000 0.0000 validation accuracy 0.8875 F1 0.6382(macro) 0.8802(weighted) precision 0.6522 recall 0.6346 mcc 0.8573 elapsed 2.3772 seconds\n",
                        "12 epoch: avg losses 496706.9542 579427.9587 0.0000 0.0000 validation accuracy 0.8936 F1 0.6709(macro) 0.8887(weighted) precision 0.6816 recall 0.6637 mcc 0.8652 elapsed 2.3368 seconds\n",
                        "13 epoch: avg losses 494682.7388 550883.7924 0.0000 0.0000 validation accuracy 0.8930 F1 0.6776(macro) 0.8885(weighted) precision 0.7238 recall 0.6757 mcc 0.8646 elapsed 2.3655 seconds\n",
                        "14 epoch: avg losses 492470.2556 523779.9342 0.0000 0.0000 validation accuracy 0.8946 F1 0.6903(macro) 0.8904(weighted) precision 0.7349 recall 0.6861 mcc 0.8665 elapsed 2.3700 seconds\n",
                        "15 epoch: avg losses 490638.8795 499756.6551 0.0000 0.0000 validation accuracy 0.8959 F1 0.7114(macro) 0.8931(weighted) precision 0.7407 recall 0.7089 mcc 0.8683 elapsed 2.3471 seconds\n",
                        "16 epoch: avg losses 489172.0201 477957.4721 0.0000 0.0000 validation accuracy 0.8956 F1 0.7090(macro) 0.8923(weighted) precision 0.7464 recall 0.6990 mcc 0.8676 elapsed 2.3786 seconds\n",
                        "17 epoch: avg losses 487678.0938 456038.2333 0.0000 0.0000 validation accuracy 0.8959 F1 0.7162(macro) 0.8931(weighted) precision 0.7470 recall 0.7050 mcc 0.8682 elapsed 2.3545 seconds\n",
                        "18 epoch: avg losses 486529.1975 439261.1217 0.0000 0.0000 validation accuracy 0.8968 F1 0.7140(macro) 0.8941(weighted) precision 0.7424 recall 0.7128 mcc 0.8695 elapsed 2.3771 seconds\n",
                        "19 epoch: avg losses 485470.8962 420936.5569 0.0000 0.0000 validation accuracy 0.8994 F1 0.7370(macro) 0.8978(weighted) precision 0.7633 recall 0.7341 mcc 0.8730 elapsed 2.3726 seconds\n",
                        "20 epoch: avg losses 484347.9353 403391.9565 0.0000 0.0000 validation accuracy 0.8985 F1 0.7466(macro) 0.8972(weighted) precision 0.7556 recall 0.7412 mcc 0.8716 elapsed 2.3957 seconds\n",
                        "21 epoch: avg losses 483537.4420 392577.8382 0.0000 0.0000 validation accuracy 0.8962 F1 0.7473(macro) 0.8951(weighted) precision 0.7540 recall 0.7443 mcc 0.8689 elapsed 2.4031 seconds\n",
                        "22 epoch: avg losses 482951.9297 375045.7087 0.0000 0.0000 validation accuracy 0.8962 F1 0.7469(macro) 0.8949(weighted) precision 0.7607 recall 0.7402 mcc 0.8687 elapsed 2.3597 seconds\n",
                        "23 epoch: avg losses 482185.7188 359852.3694 0.0000 0.0000 validation accuracy 0.8939 F1 0.7423(macro) 0.8927(weighted) precision 0.7548 recall 0.7370 mcc 0.8658 elapsed 2.3793 seconds\n",
                        "24 epoch: avg losses 481530.5859 350004.2467 0.0000 0.0000 validation accuracy 0.8936 F1 0.7429(macro) 0.8921(weighted) precision 0.7592 recall 0.7317 mcc 0.8653 elapsed 2.3713 seconds\n",
                        "25 epoch: avg losses 480930.7020 337866.3683 0.0000 0.0000 validation accuracy 0.8939 F1 0.7523(macro) 0.8932(weighted) precision 0.7596 recall 0.7498 mcc 0.8659 elapsed 2.3517 seconds\n",
                        "26 epoch: avg losses 480564.2433 327340.2299 0.0000 0.0000 validation accuracy 0.8949 F1 0.7537(macro) 0.8943(weighted) precision 0.7566 recall 0.7546 mcc 0.8674 elapsed 2.3932 seconds\n",
                        "27 epoch: avg losses 480023.4420 317028.3789 0.0000 0.0000 validation accuracy 0.8936 F1 0.7429(macro) 0.8929(weighted) precision 0.7458 recall 0.7464 mcc 0.8658 elapsed 2.3932 seconds\n",
                        "28 epoch: avg losses 479541.1719 307824.7891 0.0000 0.0000 validation accuracy 0.8926 F1 0.7479(macro) 0.8919(weighted) precision 0.7530 recall 0.7460 mcc 0.8643 elapsed 2.3590 seconds\n",
                        "29 epoch: avg losses 479112.0100 296754.2455 0.0000 0.0000 validation accuracy 0.8943 F1 0.7500(macro) 0.8939(weighted) precision 0.7525 recall 0.7525 mcc 0.8665 elapsed 2.4037 seconds\n",
                        "30 epoch: avg losses 478816.4598 287368.2812 0.0000 0.0000 validation accuracy 0.8923 F1 0.7483(macro) 0.8920(weighted) precision 0.7498 recall 0.7509 mcc 0.8642 elapsed 2.4118 seconds\n",
                        "31 epoch: avg losses 478460.4364 277699.1417 0.0000 0.0000 validation accuracy 0.8933 F1 0.7510(macro) 0.8927(weighted) precision 0.7553 recall 0.7486 mcc 0.8651 elapsed 2.3928 seconds\n",
                        "32 epoch: avg losses 478005.5357 270649.8767 0.0000 0.0000 validation accuracy 0.8923 F1 0.7488(macro) 0.8919(weighted) precision 0.7517 recall 0.7495 mcc 0.8641 elapsed 2.3561 seconds\n",
                        "33 epoch: avg losses 477750.8694 262796.9721 0.0000 0.0000 validation accuracy 0.8920 F1 0.7534(macro) 0.8920(weighted) precision 0.7534 recall 0.7586 mcc 0.8638 elapsed 2.3807 seconds\n",
                        "34 epoch: avg losses 477497.6429 254206.3934 0.0000 0.0000 validation accuracy 0.8897 F1 0.7461(macro) 0.8894(weighted) precision 0.7513 recall 0.7427 mcc 0.8607 elapsed 2.3851 seconds\n",
                        "35 epoch: avg losses 477073.7042 245417.2238 0.0000 0.0000 validation accuracy 0.8878 F1 0.7463(macro) 0.8871(weighted) precision 0.7579 recall 0.7387 mcc 0.8581 elapsed 2.3563 seconds\n",
                        "36 epoch: avg losses 476732.5324 237733.4855 0.0000 0.0000 validation accuracy 0.8868 F1 0.7413(macro) 0.8863(weighted) precision 0.7507 recall 0.7388 mcc 0.8569 elapsed 2.3855 seconds\n",
                        "37 epoch: avg losses 476496.8449 237274.6311 0.0000 0.0000 validation accuracy 0.8862 F1 0.7390(macro) 0.8854(weighted) precision 0.7607 recall 0.7270 mcc 0.8561 elapsed 2.3838 seconds\n",
                        "38 epoch: avg losses 476139.4621 224242.6228 0.0000 0.0000 validation accuracy 0.8881 F1 0.7444(macro) 0.8882(weighted) precision 0.7422 recall 0.7485 mcc 0.8589 elapsed 2.3519 seconds\n",
                        "39 epoch: avg losses 475916.1875 220435.9849 0.0000 0.0000 validation accuracy 0.8878 F1 0.7428(macro) 0.8879(weighted) precision 0.7464 recall 0.7445 mcc 0.8584 elapsed 2.3704 seconds\n",
                        "40 epoch: avg losses 475550.1395 213168.3504 0.0000 0.0000 validation accuracy 0.8849 F1 0.7436(macro) 0.8845(weighted) precision 0.7539 recall 0.7383 mcc 0.8544 elapsed 2.3721 seconds\n",
                        "41 epoch: avg losses 475338.9096 204618.8281 0.0000 0.0000 validation accuracy 0.8859 F1 0.7416(macro) 0.8859(weighted) precision 0.7495 recall 0.7403 mcc 0.8559 elapsed 2.3432 seconds\n",
                        "42 epoch: avg losses 475120.1272 202520.9955 0.0000 0.0000 validation accuracy 0.8843 F1 0.7372(macro) 0.8842(weighted) precision 0.7472 recall 0.7340 mcc 0.8537 elapsed 2.3793 seconds\n",
                        "43 epoch: avg losses 474806.5458 198364.6256 0.0000 0.0000 validation accuracy 0.8846 F1 0.7562(macro) 0.8850(weighted) precision 0.7608 recall 0.7574 mcc 0.8544 elapsed 2.3601 seconds\n",
                        "44 epoch: avg losses 474559.4185 188670.9704 0.0000 0.0000 validation accuracy 0.8843 F1 0.7590(macro) 0.8845(weighted) precision 0.7710 recall 0.7532 mcc 0.8538 elapsed 2.3415 seconds\n",
                        "45 epoch: avg losses 474458.5926 185355.9174 0.0000 0.0000 validation accuracy 0.8810 F1 0.7346(macro) 0.8811(weighted) precision 0.7464 recall 0.7293 mcc 0.8496 elapsed 2.3837 seconds\n",
                        "46 epoch: avg losses 474102.0714 179853.7829 0.0000 0.0000 validation accuracy 0.8814 F1 0.7492(macro) 0.8823(weighted) precision 0.7476 recall 0.7558 mcc 0.8504 elapsed 2.3928 seconds\n",
                        "47 epoch: avg losses 473952.1719 173795.2687 0.0000 0.0000 validation accuracy 0.8804 F1 0.7530(macro) 0.8808(weighted) precision 0.7571 recall 0.7537 mcc 0.8491 elapsed 2.3574 seconds\n",
                        "48 epoch: avg losses 473809.7422 170763.2327 0.0000 0.0000 validation accuracy 0.8801 F1 0.7342(macro) 0.8801(weighted) precision 0.7489 recall 0.7290 mcc 0.8484 elapsed 2.3881 seconds\n",
                        "49 epoch: avg losses 473579.4408 169540.1116 0.0000 0.0000 validation accuracy 0.8778 F1 0.7327(macro) 0.8777(weighted) precision 0.7439 recall 0.7261 mcc 0.8455 elapsed 2.3861 seconds\n",
                        "50 epoch: avg losses 473286.3683 167121.8460 0.0000 0.0000 validation accuracy 0.8814 F1 0.7625(macro) 0.8822(weighted) precision 0.7625 recall 0.7693 mcc 0.8503 elapsed 2.3553 seconds\n",
                        "51 epoch: avg losses 473113.5391 157973.9194 0.0000 0.0000 validation accuracy 0.8794 F1 0.7672(macro) 0.8801(weighted) precision 0.7693 recall 0.7704 mcc 0.8479 elapsed 2.3885 seconds\n",
                        "52 epoch: avg losses 472867.7121 156058.7190 0.0000 0.0000 validation accuracy 0.8778 F1 0.7524(macro) 0.8779(weighted) precision 0.7729 recall 0.7417 mcc 0.8454 elapsed 2.3710 seconds\n",
                        "53 epoch: avg losses 472772.7958 149773.8312 0.0000 0.0000 validation accuracy 0.8762 F1 0.7488(macro) 0.8765(weighted) precision 0.7584 recall 0.7439 mcc 0.8435 elapsed 2.3542 seconds\n",
                        "54 epoch: avg losses 472452.3661 146083.7121 0.0000 0.0000 validation accuracy 0.8769 F1 0.7536(macro) 0.8771(weighted) precision 0.7698 recall 0.7467 mcc 0.8443 elapsed 2.3816 seconds\n",
                        "55 epoch: avg losses 472363.4654 142479.2592 0.0000 0.0000 validation accuracy 0.8756 F1 0.7501(macro) 0.8761(weighted) precision 0.7558 recall 0.7489 mcc 0.8427 elapsed 2.3673 seconds\n",
                        "56 epoch: avg losses 472100.1942 141122.8627 0.0000 0.0000 validation accuracy 0.8756 F1 0.7622(macro) 0.8767(weighted) precision 0.7593 recall 0.7731 mcc 0.8432 elapsed 2.3448 seconds\n",
                        "57 epoch: avg losses 471943.9799 136198.6130 0.0000 0.0000 validation accuracy 0.8743 F1 0.7601(macro) 0.8751(weighted) precision 0.7636 recall 0.7653 mcc 0.8413 elapsed 2.3665 seconds\n",
                        "58 epoch: avg losses 471693.3304 133542.1582 0.0000 0.0000 validation accuracy 0.8756 F1 0.7504(macro) 0.8764(weighted) precision 0.7565 recall 0.7526 mcc 0.8429 elapsed 2.3694 seconds\n",
                        "59 epoch: avg losses 471459.4397 130241.5840 0.0000 0.0000 validation accuracy 0.8733 F1 0.7621(macro) 0.8748(weighted) precision 0.7554 recall 0.7773 mcc 0.8405 elapsed 2.3351 seconds\n",
                        "60 epoch: avg losses 471328.7400 127154.3234 0.0000 0.0000 validation accuracy 0.8675 F1 0.7466(macro) 0.8678(weighted) precision 0.7606 recall 0.7400 mcc 0.8327 elapsed 2.3888 seconds\n",
                        "61 epoch: avg losses 471131.2411 131056.2720 0.0000 0.0000 validation accuracy 0.8704 F1 0.7493(macro) 0.8710(weighted) precision 0.7598 recall 0.7471 mcc 0.8363 elapsed 2.3820 seconds\n",
                        "62 epoch: avg losses 470786.2667 131351.5497 0.0000 0.0000 validation accuracy 0.8707 F1 0.7509(macro) 0.8708(weighted) precision 0.7737 recall 0.7406 mcc 0.8365 elapsed 2.3439 seconds\n",
                        "63 epoch: avg losses 470618.0603 118063.7232 0.0000 0.0000 validation accuracy 0.8727 F1 0.7580(macro) 0.8737(weighted) precision 0.7600 recall 0.7664 mcc 0.8394 elapsed 2.3713 seconds\n",
                        "64 epoch: avg losses 470382.1975 117787.2185 0.0000 0.0000 validation accuracy 0.8723 F1 0.7601(macro) 0.8731(weighted) precision 0.7575 recall 0.7683 mcc 0.8391 elapsed 2.3610 seconds\n",
                        "65 epoch: avg losses 470169.2221 113663.0360 0.0000 0.0000 validation accuracy 0.8701 F1 0.7581(macro) 0.8713(weighted) precision 0.7495 recall 0.7716 mcc 0.8365 elapsed 2.3365 seconds\n",
                        "66 epoch: avg losses 470035.2567 111918.6666 0.0000 0.0000 validation accuracy 0.8701 F1 0.7638(macro) 0.8709(weighted) precision 0.7660 recall 0.7691 mcc 0.8360 elapsed 2.3907 seconds\n",
                        "67 epoch: avg losses 469898.0826 110802.2400 0.0000 0.0000 validation accuracy 0.8727 F1 0.7621(macro) 0.8737(weighted) precision 0.7583 recall 0.7733 mcc 0.8399 elapsed 2.3764 seconds\n",
                        "68 epoch: avg losses 469697.1886 107195.0497 0.0000 0.0000 validation accuracy 0.8711 F1 0.7605(macro) 0.8721(weighted) precision 0.7594 recall 0.7679 mcc 0.8374 elapsed 2.3546 seconds\n",
                        "69 epoch: avg losses 469419.9754 106825.2101 0.0000 0.0000 validation accuracy 0.8665 F1 0.7604(macro) 0.8676(weighted) precision 0.7576 recall 0.7679 mcc 0.8316 elapsed 2.3771 seconds\n",
                        "70 epoch: avg losses 469305.8415 104606.4967 0.0000 0.0000 validation accuracy 0.8672 F1 0.7449(macro) 0.8680(weighted) precision 0.7564 recall 0.7439 mcc 0.8323 elapsed 2.3955 seconds\n",
                        "71 epoch: avg losses 468977.2333 99473.2207 0.0000 0.0000 validation accuracy 0.8694 F1 0.7598(macro) 0.8705(weighted) precision 0.7562 recall 0.7682 mcc 0.8353 elapsed 2.3561 seconds\n",
                        "72 epoch: avg losses 468859.9844 99677.1320 0.0000 0.0000 validation accuracy 0.8672 F1 0.7604(macro) 0.8682(weighted) precision 0.7640 recall 0.7642 mcc 0.8323 elapsed 2.3855 seconds\n",
                        "73 epoch: avg losses 468551.5290 96035.6847 0.0000 0.0000 validation accuracy 0.8662 F1 0.7581(macro) 0.8671(weighted) precision 0.7598 recall 0.7620 mcc 0.8310 elapsed 2.4038 seconds\n",
                        "74 epoch: avg losses 468519.3884 97049.3817 0.0000 0.0000 validation accuracy 0.8681 F1 0.7605(macro) 0.8692(weighted) precision 0.7600 recall 0.7668 mcc 0.8336 elapsed 2.3624 seconds\n",
                        "75 epoch: avg losses 468229.3795 93633.3379 0.0000 0.0000 validation accuracy 0.8652 F1 0.7575(macro) 0.8665(weighted) precision 0.7557 recall 0.7657 mcc 0.8301 elapsed 2.3871 seconds\n",
                        "76 epoch: avg losses 467975.6629 91689.1744 0.0000 0.0000 validation accuracy 0.8675 F1 0.7597(macro) 0.8686(weighted) precision 0.7580 recall 0.7673 mcc 0.8329 elapsed 2.3777 seconds\n",
                        "77 epoch: avg losses 467906.1049 88903.1680 0.0000 0.0000 validation accuracy 0.8672 F1 0.7588(macro) 0.8680(weighted) precision 0.7580 recall 0.7636 mcc 0.8322 elapsed 2.3434 seconds\n",
                        "78 epoch: avg losses 467790.2589 86392.0269 0.0000 0.0000 validation accuracy 0.8659 F1 0.7578(macro) 0.8670(weighted) precision 0.7588 recall 0.7627 mcc 0.8307 elapsed 2.3786 seconds\n",
                        "79 epoch: avg losses 467512.6886 87303.5220 0.0000 0.0000 validation accuracy 0.8662 F1 0.7573(macro) 0.8673(weighted) precision 0.7590 recall 0.7618 mcc 0.8312 elapsed 2.3828 seconds\n",
                        "80 epoch: avg losses 467399.0089 83355.3059 0.0000 0.0000 validation accuracy 0.8659 F1 0.7567(macro) 0.8670(weighted) precision 0.7563 recall 0.7635 mcc 0.8308 elapsed 2.3500 seconds\n",
                        "81 epoch: avg losses 467154.9308 80926.2432 0.0000 0.0000 validation accuracy 0.8659 F1 0.7600(macro) 0.8667(weighted) precision 0.7642 recall 0.7610 mcc 0.8306 elapsed 2.3668 seconds\n",
                        "82 epoch: avg losses 467028.5179 78468.0975 0.0000 0.0000 validation accuracy 0.8662 F1 0.7588(macro) 0.8672(weighted) precision 0.7586 recall 0.7646 mcc 0.8312 elapsed 2.3833 seconds\n",
                        "83 epoch: avg losses 466772.1942 79421.5811 0.0000 0.0000 validation accuracy 0.8643 F1 0.7553(macro) 0.8653(weighted) precision 0.7584 recall 0.7581 mcc 0.8285 elapsed 2.3530 seconds\n",
                        "84 epoch: avg losses 466725.9989 77988.8669 0.0000 0.0000 validation accuracy 0.8669 F1 0.7609(macro) 0.8678(weighted) precision 0.7617 recall 0.7658 mcc 0.8322 elapsed 2.4003 seconds\n",
                        "85 epoch: avg losses 466579.5547 74676.0092 0.0000 0.0000 validation accuracy 0.8656 F1 0.7561(macro) 0.8669(weighted) precision 0.7548 recall 0.7642 mcc 0.8304 elapsed 2.3875 seconds\n",
                        "86 epoch: avg losses 466433.6775 73930.2250 0.0000 0.0000 validation accuracy 0.8652 F1 0.7563(macro) 0.8665(weighted) precision 0.7555 recall 0.7636 mcc 0.8300 elapsed 2.3747 seconds\n",
                        "87 epoch: avg losses 466297.5725 76345.4601 0.0000 0.0000 validation accuracy 0.8656 F1 0.7598(macro) 0.8665(weighted) precision 0.7616 recall 0.7634 mcc 0.8304 elapsed 2.3997 seconds\n",
                        "88 epoch: avg losses 466089.3225 73408.3087 0.0000 0.0000 validation accuracy 0.8630 F1 0.7549(macro) 0.8641(weighted) precision 0.7562 recall 0.7599 mcc 0.8271 elapsed 2.3921 seconds\n",
                        "89 epoch: avg losses 465983.0424 70106.3140 0.0000 0.0000 validation accuracy 0.8640 F1 0.7561(macro) 0.8651(weighted) precision 0.7546 recall 0.7636 mcc 0.8284 elapsed 2.3580 seconds\n",
                        "90 epoch: avg losses 465846.0614 66892.2395 0.0000 0.0000 validation accuracy 0.8636 F1 0.7594(macro) 0.8645(weighted) precision 0.7604 recall 0.7637 mcc 0.8280 elapsed 2.4007 seconds\n",
                        "91 epoch: avg losses 465751.7980 66277.5448 0.0000 0.0000 validation accuracy 0.8627 F1 0.7573(macro) 0.8635(weighted) precision 0.7638 recall 0.7560 mcc 0.8264 elapsed 2.3800 seconds\n",
                        "92 epoch: avg losses 465681.0502 70656.2720 0.0000 0.0000 validation accuracy 0.8611 F1 0.7525(macro) 0.8622(weighted) precision 0.7550 recall 0.7564 mcc 0.8246 elapsed 2.3428 seconds\n",
                        "93 epoch: avg losses 465495.7824 63983.1523 0.0000 0.0000 validation accuracy 0.8630 F1 0.7577(macro) 0.8640(weighted) precision 0.7596 recall 0.7617 mcc 0.8271 elapsed 2.3760 seconds\n",
                        "94 epoch: avg losses 465372.7701 62878.2889 0.0000 0.0000 validation accuracy 0.8630 F1 0.7578(macro) 0.8640(weighted) precision 0.7611 recall 0.7600 mcc 0.8270 elapsed 2.3825 seconds\n",
                        "95 epoch: avg losses 465265.0848 61840.6607 0.0000 0.0000 validation accuracy 0.8614 F1 0.7556(macro) 0.8626(weighted) precision 0.7576 recall 0.7599 mcc 0.8251 elapsed 2.3427 seconds\n",
                        "96 epoch: avg losses 465140.1105 61167.3008 0.0000 0.0000 validation accuracy 0.8588 F1 0.7560(macro) 0.8598(weighted) precision 0.7588 recall 0.7593 mcc 0.8220 elapsed 2.3753 seconds\n",
                        "97 epoch: avg losses 464996.4978 58930.0167 0.0000 0.0000 validation accuracy 0.8598 F1 0.7552(macro) 0.8608(weighted) precision 0.7596 recall 0.7569 mcc 0.8230 elapsed 2.3829 seconds\n",
                        "98 epoch: avg losses 464871.7165 58600.0776 0.0000 0.0000 validation accuracy 0.8601 F1 0.7543(macro) 0.8614(weighted) precision 0.7556 recall 0.7593 mcc 0.8235 elapsed 2.3516 seconds\n",
                        "99 epoch: avg losses 464704.7467 57957.2824 0.0000 0.0000 validation accuracy 0.8588 F1 0.7539(macro) 0.8598(weighted) precision 0.7614 recall 0.7522 mcc 0.8216 elapsed 2.3730 seconds\n",
                        "100 epoch: avg losses 464595.9955 55208.4955 0.0000 0.0000 validation accuracy 0.8607 F1 0.7551(macro) 0.8618(weighted) precision 0.7611 recall 0.7548 mcc 0.8241 elapsed 2.3741 seconds\n",
                        "best validation accuracy 0.8994\n",
                        "F1: 0.7370(macro) 0.8978(weighted) \n",
                        "precision 0.7633 recall 0.7341 \n",
                        "mcc 0.8730\n"
                    ]
                }
            ],
            "source": [
                "%%bash\n",
                "\n",
                "python scClassifier3.py --sup-data-file /home/zengbio/Project/benchmark_broad/bench_broad_dataset.mtx \\\n",
                "                        --sup-label-file /home/zengbio/Project/benchmark_broad/bench_broad_dataset_label.txt \\\n",
                "                        -lr 0.0001 \\\n",
                "                        -n 100 \\\n",
                "                        -bs 1000 \\\n",
                "                        --aux-loss \\\n",
                "                        --validation-fold 10 \\\n",
                "                        --cuda \\\n",
                "                        -ba \\\n",
                "                        --save-model bench_broad_model.pth\n",
                "                        \n"
            ]
        },
        {
            "cell_type": "code",
            "execution_count": 20,
            "metadata": {},
            "outputs": [],
            "source": [
                "%matplotlib inline\n",
                "import matplotlib.pyplot as plt\n",
                "\n",
                "import pandas as pd\n",
                "from scipy.io import mmread\n",
                "from scClassifier3 import scClassifier3\n",
                "from utils.scdata_cached import SingleCellCached, transform_label2class, label2class_encoder, fn_y_scdata\n",
                "\n",
                "import torch\n",
                "from torch.utils.data import DataLoader\n",
                "import pyro.distributions as dist\n",
                "\n",
                "from sklearn.metrics import accuracy_score, f1_score, normalized_mutual_info_score, ConfusionMatrixDisplay\n",
                "from sklearn.preprocessing import StandardScaler, Normalizer, OneHotEncoder\n",
                "from sklearn.decomposition import PCA\n",
                "from sklearn.mixture import BayesianGaussianMixture\n",
                "\n",
                "import umap\n",
                "import numpy as np\n",
                "\n",
                "#import rpy2.robjects.packages as packages\n",
                "#import rpy2.robjects.lib.ggplot2 as ggplot2\n",
                "#import rpy2.robjects as ro\n",
                "#from rpy2.robjects import pandas2ri\n",
                "\n",
                "#from rpy2.robjects.conversion import localconverter\n",
                "\n",
                "\n",
                "plt.rcParams[\"figure.figsize\"] = (20, 10)\n"
            ]
        },
        {
            "cell_type": "code",
            "execution_count": 21,
            "metadata": {},
            "outputs": [],
            "source": [
                "ModelPath = 'bench_broad_model.pth'\n",
                "\n",
                "\n",
                "DataPath='/home/zengbio/Project/benchmark_broad/bench_broad_dataset.mtx'\n",
                "LabelPath='/home/zengbio/Project/benchmark_broad/bench_broad_dataset_label.txt'\n"
            ]
        },
        {
            "cell_type": "code",
            "execution_count": 22,
            "metadata": {},
            "outputs": [],
            "source": [
                "# load model\n",
                "model = torch.load(ModelPath)"
            ]
        },
        {
            "cell_type": "code",
            "execution_count": 23,
            "metadata": {},
            "outputs": [],
            "source": [
                "# load data\n",
                "batch_size = 100\n",
                "use_float64 = False\n",
                "use_cuda = True\n",
                "\n",
                "data_cached = SingleCellCached(DataPath, LabelPath, model.class2label, 'valid', use_cuda=use_cuda, use_float64 = use_float64)\n",
                "data_loader = DataLoader(data_cached, batch_size = batch_size, shuffle = False)\n",
                "\n"
            ]
        },
        {
            "cell_type": "code",
            "execution_count": 24,
            "metadata": {},
            "outputs": [],
            "source": [
                "# predict conditions\n",
                "embeds = []\n",
                "\n",
                "# use the appropriate data loader\n",
                "for (xs, ys) in data_loader:\n",
                "    # use classification function to compute all predictions for each batch\n",
                "    embed = model.latent_embedding(xs)\n",
                "    embed = embed.cpu().detach().numpy()\n",
                "    embeds.append(embed)\n",
                "\n",
                "\n",
                "embeds = np.concatenate(embeds, 0)\n"
            ]
        },
        {
            "cell_type": "code",
            "execution_count": 25,
            "metadata": {},
            "outputs": [],
            "source": [
                "pos = umap.UMAP(metric='cosine').fit_transform(embeds)"
            ]
        },
        {
            "cell_type": "code",
            "execution_count": 26,
            "metadata": {},
            "outputs": [],
            "source": [
                "pd.DataFrame(pos).to_csv('/home/zengbio/Project/benchmark_broad/bench_broad_dataset_scp_umap.txt')\n",
                "pd.DataFrame(embeds).to_csv('/home/zengbio/Project/benchmark_broad/bench_broad_dataset_scp_embed.txt')\n"
            ]
        },
        {
            "cell_type": "code",
            "execution_count": 27,
            "metadata": {},
            "outputs": [
                {
                    "data": {
                        "text/plain": [
                            "array([[-9.0876379e+00, -6.1066532e+00, -3.6808879e+00, ...,\n",
                            "         1.5973413e+01, -4.6784897e+00, -3.0239053e+00],\n",
                            "       [-1.2114469e+01, -3.7997904e+00, -4.6962075e+00, ...,\n",
                            "         1.7967035e+01, -7.5750952e+00, -6.1945009e+00],\n",
                            "       [-9.3488007e+00, -3.6840265e+00, -3.2341595e+00, ...,\n",
                            "         1.4580159e+01, -6.0153532e+00, -4.6962991e+00],\n",
                            "       ...,\n",
                            "       [ 9.9162185e-01, -3.2534668e+00, -4.5300651e-01, ...,\n",
                            "         1.3399389e+00,  8.3013964e-01,  3.3454568e+00],\n",
                            "       [-1.0243944e+00, -5.0764942e+00, -1.6672214e+00, ...,\n",
                            "         5.0269065e+00, -6.5878081e-01,  2.6033833e+00],\n",
                            "       [-1.6373903e-02, -1.8092775e+00, -4.4859463e-01, ...,\n",
                            "         1.3712225e+00, -9.5488280e-02,  1.3453244e+00]], dtype=float32)"
                        ]
                    },
                    "execution_count": 27,
                    "metadata": {},
                    "output_type": "execute_result"
                }
            ],
            "source": [
                "embeds"
            ]
        }
    ],
    "metadata": {
        "interpreter": {
            "hash": "d31ccb2a2d8da389e67a606f835554126d4ea816879131045ccd78ebb06992eb"
        },
        "kernelspec": {
            "display_name": "Python 3.9.7 64-bit ('pyro': conda)",
            "name": "python3"
        },
        "language_info": {
            "codemirror_mode": {
                "name": "ipython",
                "version": 3
            },
            "file_extension": ".py",
            "mimetype": "text/x-python",
            "name": "python",
            "nbconvert_exporter": "python",
            "pygments_lexer": "ipython3",
            "version": "3.9.7"
        },
        "orig_nbformat": 4
    },
    "nbformat": 4,
    "nbformat_minor": 2
}
